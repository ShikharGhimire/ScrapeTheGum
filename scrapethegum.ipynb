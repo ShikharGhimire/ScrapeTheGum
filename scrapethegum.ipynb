{
 "cells": [
  {
   "cell_type": "code",
   "execution_count": 2,
   "metadata": {},
   "outputs": [],
   "source": [
    "from bs4 import BeautifulSoup as bs\n",
    "import requests\n",
    "import numpy as np\n",
    "import pandas as pd\n",
    "import json\n",
    "import time"
   ]
  },
  {
   "cell_type": "code",
   "execution_count": 3,
   "metadata": {},
   "outputs": [],
   "source": [
    "def car_info(link):\n",
    "    cars = requests.get(link,'html.parser')\n",
    "    soup = bs(cars.content)\n",
    "    coloumns = []\n",
    "    info = []\n",
    "    #Getting all the info from the information boxes\n",
    "    for i in soup.select('th',class_= 'css-1pusycv e155vlc0'):\n",
    "        coloumns.append(i.text)\n",
    "    for j in soup.select('td',class_ ='attributes-table-value'):\n",
    "        info.append(j.get_text('',strip=True))\n",
    "    dictionary = dict(zip(coloumns,info)) #zipping the file and converting it into dict\n",
    "    #Getting the price of the car\n",
    "    price = soup.find(class_ = 'css-bk9fzy e1pt9h6u5')\n",
    "    dictionary['Price'] = price.get_text('',strip=True)\n",
    "    #Extracting the name of the car\n",
    "    title = soup.select('h1',class_ ='css-1uk1gs8 e1pt9h6u3')\n",
    "    title = str(title)\n",
    "    title = title.split('>')\n",
    "    dictionary['Name'] = title[1]\n",
    "    #Extracting the location\n",
    "    location = soup.find(class_ = 'css-23ot5d e1pt9h6u4')\n",
    "    dictionary['Location'] = location.get_text('',strip = True)\n",
    "    return dictionary"
   ]
  },
  {
   "cell_type": "code",
   "execution_count": null,
   "metadata": {},
   "outputs": [],
   "source": [
    "tabs = [] #There are alltogether 50 tabs on the whole 5 wheeler cars and 30 sublinks on each of them\n",
    "for i in range(2,51):\n",
    "    tabs.append('page{}'.format(i))"
   ]
  },
  {
   "cell_type": "code",
   "execution_count": 5,
   "metadata": {},
   "outputs": [],
   "source": [
    "pages_base_link = 'https://www.gumtree.com/cars/uk/page2?vehicle_seats=5'\n",
    "final_webpages = [] \n",
    "for j in tabs:\n",
    "    all_webpages.append(pages_base_link.replace('page2',j)) "
   ]
  },
  {
   "cell_type": "code",
   "execution_count": 7,
   "metadata": {},
   "outputs": [],
   "source": [
    "#Extracting all the sublinks from the links\n",
    "all_subwebpages = [] #Extracting all the sublinks and collecting in the lists\n",
    "for i in final_webpages:\n",
    "    try:\n",
    "        baselink = 'https://www.gumtree.com'\n",
    "        cars = requests.get(i,'html.parser')\n",
    "        soup = bs(cars.content)\n",
    "        for j in soup.select('article',class_='clearfix list-listing-maxi'):\n",
    "            link = j.find('a',href = True)\n",
    "            all_subwebpages.append(baselink+link['href'])\n",
    "    except:\n",
    "        print('Error Found')"
   ]
  },
  {
   "cell_type": "code",
   "execution_count": 6,
   "metadata": {},
   "outputs": [],
   "source": [
    "all_subwebpages.remove('https://www.gumtree.com') #Removing the links that contains"
   ]
  },
  {
   "cell_type": "code",
   "execution_count": 7,
   "metadata": {},
   "outputs": [],
   "source": [
    "#Saving the sublink list as txt file so that we don't have to scrape it again\n",
    "with open(\"carlist.txt\", \"w\") as output:\n",
    "    output.write(str(all_subwebpages))"
   ]
  },
  {
   "cell_type": "code",
   "execution_count": null,
   "metadata": {},
   "outputs": [],
   "source": [
    "dataset = [] #Extracting all the data from the sublinks and adding here\n",
    "counter = 0\n",
    "for i in all_subwebpages:\n",
    "    try:\n",
    "        dataset.append(car_info(i))\n",
    "        counter+=1\n",
    "        print('Extracted links',counter)\n",
    "    except:\n",
    "        print('Errors found')"
   ]
  },
  {
   "cell_type": "code",
   "execution_count": 9,
   "metadata": {},
   "outputs": [],
   "source": [
    "#Saving all the data in json format\n",
    "def save_data(title,data):\n",
    "    with open(title,'w', encoding = 'utf-8') as f:\n",
    "        json.dump(data,f,ensure_ascii = False,indent = 2)\n",
    "#SAVING\n",
    "save_data('gumtree.json',dataset) #Saving the dataset list with dictionary into a json file "
   ]
  },
  {
   "cell_type": "code",
   "execution_count": null,
   "metadata": {},
   "outputs": [],
   "source": []
  }
 ],
 "metadata": {
  "kernelspec": {
   "display_name": "Python 3",
   "language": "python",
   "name": "python3"
  },
  "language_info": {
   "codemirror_mode": {
    "name": "ipython",
    "version": 3
   },
   "file_extension": ".py",
   "mimetype": "text/x-python",
   "name": "python",
   "nbconvert_exporter": "python",
   "pygments_lexer": "ipython3",
   "version": "3.7.6"
  }
 },
 "nbformat": 4,
 "nbformat_minor": 4
}
