{
 "cells": [
  {
   "cell_type": "code",
   "execution_count": 1,
   "metadata": {},
   "outputs": [],
   "source": [
    "import pandas as pd\n",
    "import numpy as np\n",
    "import matplotlib.pyplot as plt\n",
    "import re\n",
    "#There are many geocoding services available, but Nominatim does not require an API key to access.\n",
    "from geopy.geocoders import Nominatim\n",
    "import folium #Interracting map\n",
    "from matplotlib import pyplot\n",
    "from matplotlib.pyplot import figure"
   ]
  },
  {
   "cell_type": "markdown",
   "metadata": {},
   "source": [
    "## Data Exploration\n",
    "- Let's extract the data first and concat the two json file into single csv file. Save the csv file\n",
    "- Data exploration afterwards"
   ]
  },
  {
   "cell_type": "code",
   "execution_count": 2,
   "metadata": {},
   "outputs": [],
   "source": [
    "# df = pd.read_json('gumtree.json')\n",
    "# df2 = pd.read_json('remaininggumtree.json')\n",
    "# data = pd.concat([df,df2])\n",
    "# #Saving it as a final_data.csv\n",
    "# data.to_csv('final_data.csv',index=False)"
   ]
  },
  {
   "cell_type": "code",
   "execution_count": 3,
   "metadata": {},
   "outputs": [],
   "source": [
    "dataset = pd.read_csv('finals.csv')"
   ]
  },
  {
   "cell_type": "code",
   "execution_count": 4,
   "metadata": {},
   "outputs": [
    {
     "data": {
      "text/plain": [
       "Index(['Unnamed: 0', 'Year', 'Body type', 'Mileage', 'Transmission',\n",
       "       'Brochure Engine size', 'Fuel type', 'Urban mpg', 'Extra Urban mpg',\n",
       "       'Fuel Consumption', 'Insurance Group', 'CO2 emissions',\n",
       "       'Euro Emissions', 'Engine Power', 'Engine size',\n",
       "       'Acceleration (0-62mph)', 'Top Speed', 'Seats', 'Doors', 'Colour',\n",
       "       'Fuel Capacity', 'Luggage Capacity (seats up)', 'Price', 'Name',\n",
       "       'Location'],\n",
       "      dtype='object')"
      ]
     },
     "execution_count": 4,
     "metadata": {},
     "output_type": "execute_result"
    }
   ],
   "source": [
    "#Let's check out the coloumn names\n",
    "dataset.columns #All the coloumns here are important so we won't be deleting it. "
   ]
  },
  {
   "cell_type": "code",
   "execution_count": 5,
   "metadata": {},
   "outputs": [],
   "source": [
    "#However some of the coloumns needs some renaming to be done \n",
    "#The reason we are doing this is because we want\n",
    "dataset.rename({'Acceleration (0-62mph)':'Acceleration(0-62mph)','Luggage Capacity (seats up)':'Luggage Capacity(seats_up)'},inplace=True)"
   ]
  },
  {
   "cell_type": "code",
   "execution_count": 6,
   "metadata": {},
   "outputs": [],
   "source": [
    "#Checking if there is any duplicate values in the dataset\n",
    "#Let's find out duplicate values\n",
    "dataset.duplicated().sum() #There are alltogether 300 values that are duplicate\n",
    "#Let's see what those duplicate values are\n",
    "duplicates = dataset[dataset.duplicated()]\n",
    "#duplicates.to_csv('duplicates.csv',index=False) #Exporting to csv to further analyse the data properly.(Not necessary)"
   ]
  },
  {
   "cell_type": "code",
   "execution_count": 7,
   "metadata": {},
   "outputs": [],
   "source": [
    "#Let's remove the duplciates from the main dataset\n",
    "final_dataset = dataset.drop_duplicates()"
   ]
  },
  {
   "cell_type": "code",
   "execution_count": 8,
   "metadata": {},
   "outputs": [],
   "source": [
    "#Let's work with the dataset now that the duplicates has been removed. \n",
    "#We see alot of blank data so let's replace the blank data points with NaN\n",
    "final_dataset = final_dataset.replace(r'^\\s*$',np.nan,regex = True) #Using regex\n",
    "\n",
    "#Let's also remove unwanted spaces from the string coloumn name\n",
    "final_dataset['Name'] = final_dataset['Name'].str.strip()"
   ]
  },
  {
   "cell_type": "code",
   "execution_count": 9,
   "metadata": {},
   "outputs": [],
   "source": [
    "#final_dataset.to_csv('finals.csv',index=False) #We sucessfully removed all the 300 duplicates from the data. \n",
    "#Before the data dimanesion was 1078 rows × 24 columns and now after removing 300 duplicate values, it is 778 rows × 24 columns"
   ]
  },
  {
   "cell_type": "code",
   "execution_count": 10,
   "metadata": {},
   "outputs": [],
   "source": [
    "#Let's remove the unwanted columns\n",
    "final_dataset.drop(['Urban mpg','Extra Urban mpg','Luggage Capacity (seats up)',],axis=1,inplace=True)"
   ]
  },
  {
   "cell_type": "code",
   "execution_count": 11,
   "metadata": {},
   "outputs": [],
   "source": [
    "#Let's clean coloumns that needs cleaning\n",
    "def remove_html_tags(string):\n",
    "    result = re.sub('</h1','',string)\n",
    "    return result\n",
    "\n",
    "def remove_emojis(col): #Upon careful looking at the dataset carefully, there is an emoji '💥' that is in dataset s\n",
    "    col = col.apply(lambda x: x.encode('ascii','ignore').decode('ascii')) #let's remove it. \n",
    "    return col\n",
    "\n",
    "final_dataset['Name'] = final_dataset['Name'].apply(lambda x : remove_html_tags(x))\n",
    "final_dataset['Name'] = remove_emojis(final_dataset['Name']) "
   ]
  },
  {
   "cell_type": "code",
   "execution_count": 12,
   "metadata": {},
   "outputs": [
    {
     "data": {
      "text/plain": [
       "Unnamed: 0                 0\n",
       "Year                       0\n",
       "Body type                  0\n",
       "Mileage                    0\n",
       "Transmission               0\n",
       "Brochure Engine size       4\n",
       "Fuel type                  0\n",
       "Fuel Consumption           8\n",
       "Insurance Group           16\n",
       "CO2 emissions              1\n",
       "Euro Emissions             4\n",
       "Engine Power               1\n",
       "Engine size                0\n",
       "Acceleration (0-62mph)    13\n",
       "Top Speed                  1\n",
       "Seats                      1\n",
       "Doors                      3\n",
       "Colour                     0\n",
       "Fuel Capacity             39\n",
       "Price                      0\n",
       "Name                       0\n",
       "Location                   0\n",
       "dtype: int64"
      ]
     },
     "execution_count": 12,
     "metadata": {},
     "output_type": "execute_result"
    }
   ],
   "source": [
    "#Let's check oout empty coloumns\n",
    "final_dataset.isna().sum()\n",
    "\n",
    "#Looks like there are alot of missing values that we need to handle. The coloumns with missing values are\n",
    "#Brochure Engine Size\n",
    "#Urban mpg\n",
    "#Extra Urban mpg\n",
    "#Insurance group\n",
    "#C02 emissions\n",
    "#Euro Emissions\n",
    "#Engine Power\n",
    "#Acceleration\n",
    "#Top Speed\n",
    "#Seats\n",
    "#Doors\n",
    "#Fuel Capacity\n",
    "#Luggage Capacity\n",
    "#Let's work on the missing values one by one. The good thing about missing values in car is that you can simply manually google it"
   ]
  },
  {
   "cell_type": "code",
   "execution_count": 13,
   "metadata": {},
   "outputs": [
    {
     "name": "stderr",
     "output_type": "stream",
     "text": [
      "/Users/shikharghimire/anaconda3/lib/python3.7/site-packages/ipykernel_launcher.py:5: SettingWithCopyWarning: \n",
      "A value is trying to be set on a copy of a slice from a DataFrame\n",
      "\n",
      "See the caveats in the documentation: https://pandas.pydata.org/pandas-docs/stable/user_guide/indexing.html#returning-a-view-versus-a-copy\n",
      "  \"\"\"\n",
      "/Users/shikharghimire/anaconda3/lib/python3.7/site-packages/pandas/core/generic.py:8767: SettingWithCopyWarning: \n",
      "A value is trying to be set on a copy of a slice from a DataFrame\n",
      "\n",
      "See the caveats in the documentation: https://pandas.pydata.org/pandas-docs/stable/user_guide/indexing.html#returning-a-view-versus-a-copy\n",
      "  self._update_inplace(new_data)\n",
      "/Users/shikharghimire/anaconda3/lib/python3.7/site-packages/ipykernel_launcher.py:6: SettingWithCopyWarning: \n",
      "A value is trying to be set on a copy of a slice from a DataFrame\n",
      "\n",
      "See the caveats in the documentation: https://pandas.pydata.org/pandas-docs/stable/user_guide/indexing.html#returning-a-view-versus-a-copy\n",
      "  \n",
      "/Users/shikharghimire/anaconda3/lib/python3.7/site-packages/ipykernel_launcher.py:7: SettingWithCopyWarning: \n",
      "A value is trying to be set on a copy of a slice from a DataFrame\n",
      "\n",
      "See the caveats in the documentation: https://pandas.pydata.org/pandas-docs/stable/user_guide/indexing.html#returning-a-view-versus-a-copy\n",
      "  import sys\n",
      "/Users/shikharghimire/anaconda3/lib/python3.7/site-packages/ipykernel_launcher.py:8: SettingWithCopyWarning: \n",
      "A value is trying to be set on a copy of a slice from a DataFrame\n",
      "\n",
      "See the caveats in the documentation: https://pandas.pydata.org/pandas-docs/stable/user_guide/indexing.html#returning-a-view-versus-a-copy\n",
      "  \n"
     ]
    }
   ],
   "source": [
    "#Let's seperate the dataset by creating a different variable for only the empty borchure size\n",
    "empty_brochure = final_dataset[final_dataset['Brochure Engine size'].isna()] \n",
    "\n",
    "#Let's remove the nan file with the one we googled.\n",
    "empty_brochure['Brochure Engine size'][empty_brochure.Name=='Toyota Hilux 3.0l Invincible'] = '3.0L' #For the Toyota\n",
    "empty_brochure['Brochure Engine size'][empty_brochure.Name=='2011 Volkswagen Golf Match TDI 1.6 105 PS Hatchback Diesel Manual'] = '1.6L' #For volkswagen hatchback\n",
    "empty_brochure['Brochure Engine size'][empty_brochure.Name=='2021 Citroen C4 50kWh Shine Plus Auto 5dr Hatchback Electric Automatic'] = '0L' #For Citroen C4\n",
    "empty_brochure['Brochure Engine size'][empty_brochure.Name=='2021 Nissan Navara Brand new 2121 model  Double Cab Pick Up N-Guard in stock  wi'] = '2.3L' #For volkswagen hatchback\n",
    "#Merge the final dataset with updated empty brochure updated data\n",
    "final_dataset.update(empty_brochure) #It has been updated"
   ]
  },
  {
   "cell_type": "code",
   "execution_count": 14,
   "metadata": {},
   "outputs": [
    {
     "name": "stderr",
     "output_type": "stream",
     "text": [
      "/Users/shikharghimire/anaconda3/lib/python3.7/site-packages/ipykernel_launcher.py:9: SettingWithCopyWarning: \n",
      "A value is trying to be set on a copy of a slice from a DataFrame\n",
      "\n",
      "See the caveats in the documentation: https://pandas.pydata.org/pandas-docs/stable/user_guide/indexing.html#returning-a-view-versus-a-copy\n",
      "  if __name__ == '__main__':\n"
     ]
    }
   ],
   "source": [
    "#Let's work on fuel consumption empty data and turning it into dictionary\n",
    "fuel_consumption = final_dataset[final_dataset['Fuel Consumption'].isna()] \n",
    "\n",
    "name = list(fuel_consumption['Name'])\n",
    "consumption = ['62.8mpg','0mpg','0mpg','0mpg','0mpg','60mpg','0.0mpg','65.7mpg'] #Co\n",
    "consumption_dict = dict(zip(name,consumption))\n",
    "\n",
    "for i,j in consumption_dict.items():\n",
    "    fuel_consumption['Fuel Consumption'][fuel_consumption.Name=='{}'.format(i)] = '{}'.format(j)\n",
    "\n",
    "final_dataset.update(fuel_consumption) #Updating the final dataframe"
   ]
  },
  {
   "cell_type": "code",
   "execution_count": 15,
   "metadata": {},
   "outputs": [
    {
     "name": "stderr",
     "output_type": "stream",
     "text": [
      "/Users/shikharghimire/anaconda3/lib/python3.7/site-packages/ipykernel_launcher.py:5: SettingWithCopyWarning: \n",
      "A value is trying to be set on a copy of a slice from a DataFrame\n",
      "\n",
      "See the caveats in the documentation: https://pandas.pydata.org/pandas-docs/stable/user_guide/indexing.html#returning-a-view-versus-a-copy\n",
      "  \"\"\"\n"
     ]
    }
   ],
   "source": [
    "#Since there is only one missing value for CO2 emissions, let's use the normal way to fill in the data\n",
    "CO2_emission = final_dataset[final_dataset['CO2 emissions'].isna()] \n",
    "\n",
    "#CO2 emission filling\n",
    "CO2_emission['CO2 emissions'][CO2_emission.Name=='2011 Volkswagen Golf Match TDI 1.6 105 PS Hatchback Diesel Manual'] = '119g/km'\n",
    "\n",
    "final_dataset.update(CO2_emission) #Updating the final dataframe"
   ]
  },
  {
   "cell_type": "code",
   "execution_count": 16,
   "metadata": {},
   "outputs": [
    {
     "name": "stderr",
     "output_type": "stream",
     "text": [
      "/Users/shikharghimire/anaconda3/lib/python3.7/site-packages/ipykernel_launcher.py:11: SettingWithCopyWarning: \n",
      "A value is trying to be set on a copy of a slice from a DataFrame\n",
      "\n",
      "See the caveats in the documentation: https://pandas.pydata.org/pandas-docs/stable/user_guide/indexing.html#returning-a-view-versus-a-copy\n",
      "  # This is added back by InteractiveShellApp.init_path()\n"
     ]
    }
   ],
   "source": [
    "#Let's work on the missing Euro Emissions\n",
    "euro_emission = final_dataset[final_dataset['Euro Emissions'].isna()] \n",
    "car_name = list(euro_emission['Name'])\n",
    "euro_missing = ['Euro 3','Euro 5','Euro 3','Euro 2']\n",
    "\n",
    "#Converting it into dictionary\n",
    "euro_dict = dict(zip(car_name,euro_missing))\n",
    "\n",
    "#Filling the data\n",
    "for i,j in euro_dict.items():\n",
    "    euro_emission['Euro Emissions'][euro_emission.Name=='{}'.format(i)] = '{}'.format(j)\n",
    "    \n",
    "final_dataset.update(euro_emission)"
   ]
  },
  {
   "cell_type": "code",
   "execution_count": 17,
   "metadata": {},
   "outputs": [
    {
     "name": "stderr",
     "output_type": "stream",
     "text": [
      "/Users/shikharghimire/anaconda3/lib/python3.7/site-packages/ipykernel_launcher.py:2: SettingWithCopyWarning: \n",
      "A value is trying to be set on a copy of a slice from a DataFrame\n",
      "\n",
      "See the caveats in the documentation: https://pandas.pydata.org/pandas-docs/stable/user_guide/indexing.html#returning-a-view-versus-a-copy\n",
      "  \n"
     ]
    }
   ],
   "source": [
    "engine_power = final_dataset[final_dataset['Engine Power'].isna()] \n",
    "engine_power['Engine Power'][engine_power.Name=='2011 Volkswagen Golf Match TDI 1.6 105 PS Hatchback Diesel Manual'] = '103.3bhp'\n",
    "final_dataset.update(engine_power) "
   ]
  },
  {
   "cell_type": "code",
   "execution_count": 18,
   "metadata": {},
   "outputs": [
    {
     "name": "stderr",
     "output_type": "stream",
     "text": [
      "/Users/shikharghimire/anaconda3/lib/python3.7/site-packages/ipykernel_launcher.py:2: SettingWithCopyWarning: \n",
      "A value is trying to be set on a copy of a slice from a DataFrame\n",
      "\n",
      "See the caveats in the documentation: https://pandas.pydata.org/pandas-docs/stable/user_guide/indexing.html#returning-a-view-versus-a-copy\n",
      "  \n"
     ]
    }
   ],
   "source": [
    "top_speed = final_dataset[final_dataset['Top Speed'].isna()] \n",
    "top_speed['Top Speed'][top_speed.Name=='2011 Volkswagen Golf Match TDI 1.6 105 PS Hatchback Diesel Manual'] = '117mph'\n",
    "final_dataset.update(top_speed) "
   ]
  },
  {
   "cell_type": "code",
   "execution_count": 19,
   "metadata": {},
   "outputs": [
    {
     "name": "stderr",
     "output_type": "stream",
     "text": [
      "/Users/shikharghimire/anaconda3/lib/python3.7/site-packages/ipykernel_launcher.py:3: SettingWithCopyWarning: \n",
      "A value is trying to be set on a copy of a slice from a DataFrame\n",
      "\n",
      "See the caveats in the documentation: https://pandas.pydata.org/pandas-docs/stable/user_guide/indexing.html#returning-a-view-versus-a-copy\n",
      "  This is separate from the ipykernel package so we can avoid doing imports until\n"
     ]
    }
   ],
   "source": [
    "#For seats\n",
    "seats = final_dataset[final_dataset['Seats'].isna()] \n",
    "seats['Seats'][seats.Name=='2011 Volkswagen Golf Match TDI 1.6 105 PS Hatchback Diesel Manual'] = '5'\n",
    "final_dataset.update(seats) "
   ]
  },
  {
   "cell_type": "code",
   "execution_count": 20,
   "metadata": {},
   "outputs": [
    {
     "name": "stderr",
     "output_type": "stream",
     "text": [
      "/Users/shikharghimire/anaconda3/lib/python3.7/site-packages/ipykernel_launcher.py:8: SettingWithCopyWarning: \n",
      "A value is trying to be set on a copy of a slice from a DataFrame\n",
      "\n",
      "See the caveats in the documentation: https://pandas.pydata.org/pandas-docs/stable/user_guide/indexing.html#returning-a-view-versus-a-copy\n",
      "  \n"
     ]
    }
   ],
   "source": [
    "#For doors\n",
    "doors = final_dataset[final_dataset['Doors'].isna()] \n",
    "doorcar_name = list(doors['Name'])\n",
    "doors_missing = ['5','5','5']\n",
    "seat_dict = dict(zip(doorcar_name,doors_missing))\n",
    "\n",
    "for i,j in seat_dict.items():\n",
    "    doors['Doors'][doors.Name=='{}'.format(i)] = '{}'.format(j)\n",
    "    \n",
    "final_dataset.update(doors)\n"
   ]
  },
  {
   "cell_type": "code",
   "execution_count": 21,
   "metadata": {},
   "outputs": [
    {
     "name": "stderr",
     "output_type": "stream",
     "text": [
      "/Users/shikharghimire/anaconda3/lib/python3.7/site-packages/ipykernel_launcher.py:9: SettingWithCopyWarning: \n",
      "A value is trying to be set on a copy of a slice from a DataFrame\n",
      "\n",
      "See the caveats in the documentation: https://pandas.pydata.org/pandas-docs/stable/user_guide/indexing.html#returning-a-view-versus-a-copy\n",
      "  if __name__ == '__main__':\n"
     ]
    }
   ],
   "source": [
    "#Let's work for the acceleration\n",
    "acceleration = final_dataset[final_dataset['Acceleration (0-62mph)'].isna()]\n",
    "acceleration_name = list(acceleration['Name'])\n",
    "acceleration_missing = ['11.0seconds','7.5seconds','5.9seconds','9.3seconds','5.5seconds',\n",
    "                        '9.2seconds','7.5seconds','11.8seconds','9.7seconds','17.3seconds','7seconds',\n",
    "                        '12seconds','10.7seconds']\n",
    "acceleration_dict = dict(zip(acceleration_name,acceleration_missing))\n",
    "for i,j in acceleration_dict.items():\n",
    "    acceleration['Acceleration (0-62mph)'][acceleration.Name=='{}'.format(i)] = '{}'.format(j)\n",
    "    \n",
    "final_dataset.update(acceleration)"
   ]
  },
  {
   "cell_type": "code",
   "execution_count": 22,
   "metadata": {},
   "outputs": [],
   "source": [
    "#Let's work on the insurance group. Let's just add the string 'unknown' to the missing value in insurance coloumn\n",
    "final_dataset['Insurance Group'] = final_dataset['Insurance Group'].fillna('Unknown')"
   ]
  },
  {
   "cell_type": "code",
   "execution_count": 23,
   "metadata": {},
   "outputs": [
    {
     "name": "stderr",
     "output_type": "stream",
     "text": [
      "/Users/shikharghimire/anaconda3/lib/python3.7/site-packages/ipykernel_launcher.py:11: SettingWithCopyWarning: \n",
      "A value is trying to be set on a copy of a slice from a DataFrame\n",
      "\n",
      "See the caveats in the documentation: https://pandas.pydata.org/pandas-docs/stable/user_guide/indexing.html#returning-a-view-versus-a-copy\n",
      "  # This is added back by InteractiveShellApp.init_path()\n"
     ]
    }
   ],
   "source": [
    "#Let's now work on the empty value of Fuel Capacity\n",
    "fuel_capacity = final_dataset[final_dataset['Fuel Capacity'].isna()]\n",
    "fuel_car_name = list(fuel_capacity['Name'])\n",
    "fuel_capacity_missing = ['50litres','61litres','97litres','62litres','42litres','60litres','55litres','53litres','65litres',\n",
    "                        '62litres','42litres','60litres','0litres','54litres','0litres','60litres','54litres','64litres',\n",
    "                        '42litres','40litres','53litres','42litres','50litres','45litres','50litres','40litres','40litres',\n",
    "                        '0litres','0litres','56litres','65litres','43litres','87litres','0litres','63litres','53.5litres',\n",
    "                        '50litres','43litres','88litres','28litres']\n",
    "fuel_capacity_dict = dict(zip(fuel_car_name,fuel_capacity_missing))\n",
    "for i,j in fuel_capacity_dict.items():\n",
    "    fuel_capacity['Fuel Capacity'][fuel_capacity.Name=='{}'.format(i)] = '{}'.format(j)\n",
    "    \n",
    "final_dataset.update(fuel_capacity)"
   ]
  },
  {
   "cell_type": "code",
   "execution_count": 24,
   "metadata": {},
   "outputs": [],
   "source": [
    "final_dataset.drop(['Unnamed: 0'],axis=1,inplace=True)"
   ]
  },
  {
   "cell_type": "code",
   "execution_count": 25,
   "metadata": {},
   "outputs": [
    {
     "data": {
      "text/plain": [
       "Index(['Year', 'Body type', 'Mileage', 'Transmission', 'Brochure Engine size',\n",
       "       'Fuel type', 'Fuel Consumption', 'Insurance Group', 'CO2 emissions',\n",
       "       'Euro Emissions', 'Engine Power', 'Engine size',\n",
       "       'Acceleration (0-62mph)', 'Top Speed', 'Seats', 'Doors', 'Colour',\n",
       "       'Fuel Capacity', 'Price', 'Name', 'Location'],\n",
       "      dtype='object')"
      ]
     },
     "execution_count": 25,
     "metadata": {},
     "output_type": "execute_result"
    }
   ],
   "source": [
    "final_dataset.columns"
   ]
  },
  {
   "cell_type": "code",
   "execution_count": 26,
   "metadata": {},
   "outputs": [],
   "source": [
    "# #Let's map out the location in the actual maps\n",
    "# geolocator = Nominatim(timeout = 10,user_agent = 'myGeoLocator') #Check out nominatim documentation"
   ]
  },
  {
   "cell_type": "code",
   "execution_count": 27,
   "metadata": {},
   "outputs": [],
   "source": [
    "# final_dataset['geocode'] = final_dataset.Location.apply(geolocator.geocode) #Converts data into location "
   ]
  },
  {
   "cell_type": "code",
   "execution_count": 28,
   "metadata": {},
   "outputs": [],
   "source": [
    "# final_dataset['latitude'] = [0 if x is None else x.latitude for x in final_dataset.geocode] #If it can't find the latitude, leave it empty\n",
    "# final_dataset['longitude'] = [0 if x is None else x.longitude for x in final_dataset.geocode]#If it can't find the longitude, leave it empty"
   ]
  },
  {
   "cell_type": "code",
   "execution_count": 29,
   "metadata": {},
   "outputs": [],
   "source": [
    "# #Now that we have latitude and longitude, we can plot the addresses using Folium, a python library for making interactive maps.\n",
    "# #This is to create an empty ma\n",
    "# my_map = folium.Map(location=[51.5074, 0.1278],zoom_start = 13) #UK coordinates"
   ]
  },
  {
   "cell_type": "code",
   "execution_count": 30,
   "metadata": {},
   "outputs": [],
   "source": [
    "# for index, row in final_dataset.iterrows():\n",
    "#     folium.Marker(location=(row['latitude'],row['longitude'])).add_to(my_map)\n",
    "# display(my_map)"
   ]
  },
  {
   "cell_type": "code",
   "execution_count": 31,
   "metadata": {},
   "outputs": [
    {
     "data": {
      "text/plain": [
       "Index(['Year', 'Body type', 'Mileage', 'Transmission', 'Brochure Engine size',\n",
       "       'Fuel type', 'Fuel Consumption', 'Insurance Group', 'CO2 emissions',\n",
       "       'Euro Emissions', 'Engine Power', 'Engine size',\n",
       "       'Acceleration (0-62mph)', 'Top Speed', 'Seats', 'Doors', 'Colour',\n",
       "       'Fuel Capacity', 'Price', 'Name', 'Location'],\n",
       "      dtype='object')"
      ]
     },
     "execution_count": 31,
     "metadata": {},
     "output_type": "execute_result"
    }
   ],
   "source": [
    "#Let's discover correlation between two variables\n",
    "#Let's take a random subset of the data and plot a scatterplot \n",
    "final_dataset.columns"
   ]
  },
  {
   "cell_type": "code",
   "execution_count": 32,
   "metadata": {},
   "outputs": [],
   "source": [
    "#Let's rechange the coloumn name and remove any strings from numerical value\n",
    "final_dataset.rename(columns = {'Mileage':'Mileage(miles)','Brochure Engine size':'Brochure Engine size(litre)','Fuel Consumption':'Fuel Consumption(mpg)',\n",
    "                               'CO2 emissions':'CO2 emissions(g/km)','Engine Power':'Engine Power(bhp)',\n",
    "                               'Engine size':'Engine size(cc)','Acceleration (0-62mph)':'Acceleration(0-62mph in seconds)',\n",
    "                                'Top Speed':'Top Speed(mph)','Fuel Capacity':'Fuel Capacity(litres)','Price':'Price £'},inplace=True)"
   ]
  },
  {
   "cell_type": "code",
   "execution_count": 33,
   "metadata": {},
   "outputs": [],
   "source": [
    "#Let's now remove any unwanted strings from our coloumns\n",
    "col_remove_string = ['Mileage(miles)','Brochure Engine size(litre)','Fuel Consumption(mpg)','CO2 emissions(g/km)','Engine Power(bhp)','Engine size(cc)',\n",
    "               'Acceleration(0-62mph in seconds)','Top Speed(mph)','Fuel Capacity(litres)','Price £']\n",
    "for i in col_remove_string:\n",
    "    final_dataset['{}'.format(i)] = final_dataset['{}'.format(i)].str.extract('(\\d+)', expand=False)\n",
    "\n",
    "for i in col_remove_string:\n",
    "    final_dataset['{}'.format(i)] = final_dataset['{}'.format(i)].astype(str).astype(int) #Converting string dtypes into int"
   ]
  },
  {
   "cell_type": "code",
   "execution_count": 34,
   "metadata": {},
   "outputs": [],
   "source": [
    "#Let's create a subsection of the dataframe to check the correlation \n",
    "correlation_dataframe = final_dataset[['Mileage(miles)','Brochure Engine size(litre)','Fuel Consumption(mpg)','CO2 emissions(g/km)','Engine Power(bhp)','Engine size(cc)',\n",
    "               'Acceleration(0-62mph in seconds)','Top Speed(mph)','Fuel Capacity(litres)','Price £']]"
   ]
  },
  {
   "cell_type": "code",
   "execution_count": 35,
   "metadata": {},
   "outputs": [
    {
     "data": {
      "text/html": [
       "<style  type=\"text/css\" >\n",
       "    #T_beda5a38_cec7_11eb_aead_acde48001122row0_col0 {\n",
       "            background-color:  #b40426;\n",
       "            color:  #f1f1f1;\n",
       "        }    #T_beda5a38_cec7_11eb_aead_acde48001122row0_col1 {\n",
       "            background-color:  #c9d7f0;\n",
       "            color:  #000000;\n",
       "        }    #T_beda5a38_cec7_11eb_aead_acde48001122row0_col2 {\n",
       "            background-color:  #9dbdff;\n",
       "            color:  #000000;\n",
       "        }    #T_beda5a38_cec7_11eb_aead_acde48001122row0_col3 {\n",
       "            background-color:  #dfdbd9;\n",
       "            color:  #000000;\n",
       "        }    #T_beda5a38_cec7_11eb_aead_acde48001122row0_col4 {\n",
       "            background-color:  #ccd9ed;\n",
       "            color:  #000000;\n",
       "        }    #T_beda5a38_cec7_11eb_aead_acde48001122row0_col5 {\n",
       "            background-color:  #cad8ef;\n",
       "            color:  #000000;\n",
       "        }    #T_beda5a38_cec7_11eb_aead_acde48001122row0_col6 {\n",
       "            background-color:  #d8dce2;\n",
       "            color:  #000000;\n",
       "        }    #T_beda5a38_cec7_11eb_aead_acde48001122row0_col7 {\n",
       "            background-color:  #d4dbe6;\n",
       "            color:  #000000;\n",
       "        }    #T_beda5a38_cec7_11eb_aead_acde48001122row0_col8 {\n",
       "            background-color:  #b1cbfc;\n",
       "            color:  #000000;\n",
       "        }    #T_beda5a38_cec7_11eb_aead_acde48001122row0_col9 {\n",
       "            background-color:  #89acfd;\n",
       "            color:  #000000;\n",
       "        }    #T_beda5a38_cec7_11eb_aead_acde48001122row1_col0 {\n",
       "            background-color:  #81a4fb;\n",
       "            color:  #000000;\n",
       "        }    #T_beda5a38_cec7_11eb_aead_acde48001122row1_col1 {\n",
       "            background-color:  #b40426;\n",
       "            color:  #f1f1f1;\n",
       "        }    #T_beda5a38_cec7_11eb_aead_acde48001122row1_col2 {\n",
       "            background-color:  #96b7ff;\n",
       "            color:  #000000;\n",
       "        }    #T_beda5a38_cec7_11eb_aead_acde48001122row1_col3 {\n",
       "            background-color:  #f7a688;\n",
       "            color:  #000000;\n",
       "        }    #T_beda5a38_cec7_11eb_aead_acde48001122row1_col4 {\n",
       "            background-color:  #de614d;\n",
       "            color:  #000000;\n",
       "        }    #T_beda5a38_cec7_11eb_aead_acde48001122row1_col5 {\n",
       "            background-color:  #cc403a;\n",
       "            color:  #f1f1f1;\n",
       "        }    #T_beda5a38_cec7_11eb_aead_acde48001122row1_col6 {\n",
       "            background-color:  #6b8df0;\n",
       "            color:  #000000;\n",
       "        }    #T_beda5a38_cec7_11eb_aead_acde48001122row1_col7 {\n",
       "            background-color:  #ed8366;\n",
       "            color:  #000000;\n",
       "        }    #T_beda5a38_cec7_11eb_aead_acde48001122row1_col8 {\n",
       "            background-color:  #f6a283;\n",
       "            color:  #000000;\n",
       "        }    #T_beda5a38_cec7_11eb_aead_acde48001122row1_col9 {\n",
       "            background-color:  #5673e0;\n",
       "            color:  #000000;\n",
       "        }    #T_beda5a38_cec7_11eb_aead_acde48001122row2_col0 {\n",
       "            background-color:  #3b4cc0;\n",
       "            color:  #f1f1f1;\n",
       "        }    #T_beda5a38_cec7_11eb_aead_acde48001122row2_col1 {\n",
       "            background-color:  #8caffe;\n",
       "            color:  #000000;\n",
       "        }    #T_beda5a38_cec7_11eb_aead_acde48001122row2_col2 {\n",
       "            background-color:  #b40426;\n",
       "            color:  #f1f1f1;\n",
       "        }    #T_beda5a38_cec7_11eb_aead_acde48001122row2_col3 {\n",
       "            background-color:  #3b4cc0;\n",
       "            color:  #f1f1f1;\n",
       "        }    #T_beda5a38_cec7_11eb_aead_acde48001122row2_col4 {\n",
       "            background-color:  #9dbdff;\n",
       "            color:  #000000;\n",
       "        }    #T_beda5a38_cec7_11eb_aead_acde48001122row2_col5 {\n",
       "            background-color:  #92b4fe;\n",
       "            color:  #000000;\n",
       "        }    #T_beda5a38_cec7_11eb_aead_acde48001122row2_col6 {\n",
       "            background-color:  #e5d8d1;\n",
       "            color:  #000000;\n",
       "        }    #T_beda5a38_cec7_11eb_aead_acde48001122row2_col7 {\n",
       "            background-color:  #c5d6f2;\n",
       "            color:  #000000;\n",
       "        }    #T_beda5a38_cec7_11eb_aead_acde48001122row2_col8 {\n",
       "            background-color:  #5b7ae5;\n",
       "            color:  #000000;\n",
       "        }    #T_beda5a38_cec7_11eb_aead_acde48001122row2_col9 {\n",
       "            background-color:  #3b4cc0;\n",
       "            color:  #f1f1f1;\n",
       "        }    #T_beda5a38_cec7_11eb_aead_acde48001122row3_col0 {\n",
       "            background-color:  #9fbfff;\n",
       "            color:  #000000;\n",
       "        }    #T_beda5a38_cec7_11eb_aead_acde48001122row3_col1 {\n",
       "            background-color:  #f7aa8c;\n",
       "            color:  #000000;\n",
       "        }    #T_beda5a38_cec7_11eb_aead_acde48001122row3_col2 {\n",
       "            background-color:  #3b4cc0;\n",
       "            color:  #f1f1f1;\n",
       "        }    #T_beda5a38_cec7_11eb_aead_acde48001122row3_col3 {\n",
       "            background-color:  #b40426;\n",
       "            color:  #f1f1f1;\n",
       "        }    #T_beda5a38_cec7_11eb_aead_acde48001122row3_col4 {\n",
       "            background-color:  #f7aa8c;\n",
       "            color:  #000000;\n",
       "        }    #T_beda5a38_cec7_11eb_aead_acde48001122row3_col5 {\n",
       "            background-color:  #f39577;\n",
       "            color:  #000000;\n",
       "        }    #T_beda5a38_cec7_11eb_aead_acde48001122row3_col6 {\n",
       "            background-color:  #b1cbfc;\n",
       "            color:  #000000;\n",
       "        }    #T_beda5a38_cec7_11eb_aead_acde48001122row3_col7 {\n",
       "            background-color:  #f3c7b1;\n",
       "            color:  #000000;\n",
       "        }    #T_beda5a38_cec7_11eb_aead_acde48001122row3_col8 {\n",
       "            background-color:  #f7b79b;\n",
       "            color:  #000000;\n",
       "        }    #T_beda5a38_cec7_11eb_aead_acde48001122row3_col9 {\n",
       "            background-color:  #94b6ff;\n",
       "            color:  #000000;\n",
       "        }    #T_beda5a38_cec7_11eb_aead_acde48001122row4_col0 {\n",
       "            background-color:  #6485ec;\n",
       "            color:  #000000;\n",
       "        }    #T_beda5a38_cec7_11eb_aead_acde48001122row4_col1 {\n",
       "            background-color:  #e26952;\n",
       "            color:  #000000;\n",
       "        }    #T_beda5a38_cec7_11eb_aead_acde48001122row4_col2 {\n",
       "            background-color:  #86a9fc;\n",
       "            color:  #000000;\n",
       "        }    #T_beda5a38_cec7_11eb_aead_acde48001122row4_col3 {\n",
       "            background-color:  #f7b497;\n",
       "            color:  #000000;\n",
       "        }    #T_beda5a38_cec7_11eb_aead_acde48001122row4_col4 {\n",
       "            background-color:  #b40426;\n",
       "            color:  #f1f1f1;\n",
       "        }    #T_beda5a38_cec7_11eb_aead_acde48001122row4_col5 {\n",
       "            background-color:  #e26952;\n",
       "            color:  #000000;\n",
       "        }    #T_beda5a38_cec7_11eb_aead_acde48001122row4_col6 {\n",
       "            background-color:  #465ecf;\n",
       "            color:  #f1f1f1;\n",
       "        }    #T_beda5a38_cec7_11eb_aead_acde48001122row4_col7 {\n",
       "            background-color:  #d85646;\n",
       "            color:  #000000;\n",
       "        }    #T_beda5a38_cec7_11eb_aead_acde48001122row4_col8 {\n",
       "            background-color:  #f5c2aa;\n",
       "            color:  #000000;\n",
       "        }    #T_beda5a38_cec7_11eb_aead_acde48001122row4_col9 {\n",
       "            background-color:  #4e68d8;\n",
       "            color:  #000000;\n",
       "        }    #T_beda5a38_cec7_11eb_aead_acde48001122row5_col0 {\n",
       "            background-color:  #84a7fc;\n",
       "            color:  #000000;\n",
       "        }    #T_beda5a38_cec7_11eb_aead_acde48001122row5_col1 {\n",
       "            background-color:  #cc403a;\n",
       "            color:  #f1f1f1;\n",
       "        }    #T_beda5a38_cec7_11eb_aead_acde48001122row5_col2 {\n",
       "            background-color:  #9bbcff;\n",
       "            color:  #000000;\n",
       "        }    #T_beda5a38_cec7_11eb_aead_acde48001122row5_col3 {\n",
       "            background-color:  #f29274;\n",
       "            color:  #000000;\n",
       "        }    #T_beda5a38_cec7_11eb_aead_acde48001122row5_col4 {\n",
       "            background-color:  #de614d;\n",
       "            color:  #000000;\n",
       "        }    #T_beda5a38_cec7_11eb_aead_acde48001122row5_col5 {\n",
       "            background-color:  #b40426;\n",
       "            color:  #f1f1f1;\n",
       "        }    #T_beda5a38_cec7_11eb_aead_acde48001122row5_col6 {\n",
       "            background-color:  #6b8df0;\n",
       "            color:  #000000;\n",
       "        }    #T_beda5a38_cec7_11eb_aead_acde48001122row5_col7 {\n",
       "            background-color:  #ee8468;\n",
       "            color:  #000000;\n",
       "        }    #T_beda5a38_cec7_11eb_aead_acde48001122row5_col8 {\n",
       "            background-color:  #f59c7d;\n",
       "            color:  #000000;\n",
       "        }    #T_beda5a38_cec7_11eb_aead_acde48001122row5_col9 {\n",
       "            background-color:  #6180e9;\n",
       "            color:  #000000;\n",
       "        }    #T_beda5a38_cec7_11eb_aead_acde48001122row6_col0 {\n",
       "            background-color:  #6f92f3;\n",
       "            color:  #000000;\n",
       "        }    #T_beda5a38_cec7_11eb_aead_acde48001122row6_col1 {\n",
       "            background-color:  #3b4cc0;\n",
       "            color:  #f1f1f1;\n",
       "        }    #T_beda5a38_cec7_11eb_aead_acde48001122row6_col2 {\n",
       "            background-color:  #d5dbe5;\n",
       "            color:  #000000;\n",
       "        }    #T_beda5a38_cec7_11eb_aead_acde48001122row6_col3 {\n",
       "            background-color:  #93b5fe;\n",
       "            color:  #000000;\n",
       "        }    #T_beda5a38_cec7_11eb_aead_acde48001122row6_col4 {\n",
       "            background-color:  #3b4cc0;\n",
       "            color:  #f1f1f1;\n",
       "        }    #T_beda5a38_cec7_11eb_aead_acde48001122row6_col5 {\n",
       "            background-color:  #3b4cc0;\n",
       "            color:  #f1f1f1;\n",
       "        }    #T_beda5a38_cec7_11eb_aead_acde48001122row6_col6 {\n",
       "            background-color:  #b40426;\n",
       "            color:  #f1f1f1;\n",
       "        }    #T_beda5a38_cec7_11eb_aead_acde48001122row6_col7 {\n",
       "            background-color:  #3b4cc0;\n",
       "            color:  #f1f1f1;\n",
       "        }    #T_beda5a38_cec7_11eb_aead_acde48001122row6_col8 {\n",
       "            background-color:  #3b4cc0;\n",
       "            color:  #f1f1f1;\n",
       "        }    #T_beda5a38_cec7_11eb_aead_acde48001122row6_col9 {\n",
       "            background-color:  #80a3fa;\n",
       "            color:  #000000;\n",
       "        }    #T_beda5a38_cec7_11eb_aead_acde48001122row7_col0 {\n",
       "            background-color:  #6687ed;\n",
       "            color:  #000000;\n",
       "        }    #T_beda5a38_cec7_11eb_aead_acde48001122row7_col1 {\n",
       "            background-color:  #f29274;\n",
       "            color:  #000000;\n",
       "        }    #T_beda5a38_cec7_11eb_aead_acde48001122row7_col2 {\n",
       "            background-color:  #abc8fd;\n",
       "            color:  #000000;\n",
       "        }    #T_beda5a38_cec7_11eb_aead_acde48001122row7_col3 {\n",
       "            background-color:  #ebd3c6;\n",
       "            color:  #000000;\n",
       "        }    #T_beda5a38_cec7_11eb_aead_acde48001122row7_col4 {\n",
       "            background-color:  #da5a49;\n",
       "            color:  #000000;\n",
       "        }    #T_beda5a38_cec7_11eb_aead_acde48001122row7_col5 {\n",
       "            background-color:  #f39475;\n",
       "            color:  #000000;\n",
       "        }    #T_beda5a38_cec7_11eb_aead_acde48001122row7_col6 {\n",
       "            background-color:  #3b4cc0;\n",
       "            color:  #f1f1f1;\n",
       "        }    #T_beda5a38_cec7_11eb_aead_acde48001122row7_col7 {\n",
       "            background-color:  #b40426;\n",
       "            color:  #f1f1f1;\n",
       "        }    #T_beda5a38_cec7_11eb_aead_acde48001122row7_col8 {\n",
       "            background-color:  #efcebd;\n",
       "            color:  #000000;\n",
       "        }    #T_beda5a38_cec7_11eb_aead_acde48001122row7_col9 {\n",
       "            background-color:  #4961d2;\n",
       "            color:  #f1f1f1;\n",
       "        }    #T_beda5a38_cec7_11eb_aead_acde48001122row8_col0 {\n",
       "            background-color:  #89acfd;\n",
       "            color:  #000000;\n",
       "        }    #T_beda5a38_cec7_11eb_aead_acde48001122row8_col1 {\n",
       "            background-color:  #f29274;\n",
       "            color:  #000000;\n",
       "        }    #T_beda5a38_cec7_11eb_aead_acde48001122row8_col2 {\n",
       "            background-color:  #92b4fe;\n",
       "            color:  #000000;\n",
       "        }    #T_beda5a38_cec7_11eb_aead_acde48001122row8_col3 {\n",
       "            background-color:  #f6a283;\n",
       "            color:  #000000;\n",
       "        }    #T_beda5a38_cec7_11eb_aead_acde48001122row8_col4 {\n",
       "            background-color:  #f6a586;\n",
       "            color:  #000000;\n",
       "        }    #T_beda5a38_cec7_11eb_aead_acde48001122row8_col5 {\n",
       "            background-color:  #f18d6f;\n",
       "            color:  #000000;\n",
       "        }    #T_beda5a38_cec7_11eb_aead_acde48001122row8_col6 {\n",
       "            background-color:  #96b7ff;\n",
       "            color:  #000000;\n",
       "        }    #T_beda5a38_cec7_11eb_aead_acde48001122row8_col7 {\n",
       "            background-color:  #f7ad90;\n",
       "            color:  #000000;\n",
       "        }    #T_beda5a38_cec7_11eb_aead_acde48001122row8_col8 {\n",
       "            background-color:  #b40426;\n",
       "            color:  #f1f1f1;\n",
       "        }    #T_beda5a38_cec7_11eb_aead_acde48001122row8_col9 {\n",
       "            background-color:  #6b8df0;\n",
       "            color:  #000000;\n",
       "        }    #T_beda5a38_cec7_11eb_aead_acde48001122row9_col0 {\n",
       "            background-color:  #8fb1fe;\n",
       "            color:  #000000;\n",
       "        }    #T_beda5a38_cec7_11eb_aead_acde48001122row9_col1 {\n",
       "            background-color:  #afcafc;\n",
       "            color:  #000000;\n",
       "        }    #T_beda5a38_cec7_11eb_aead_acde48001122row9_col2 {\n",
       "            background-color:  #a1c0ff;\n",
       "            color:  #000000;\n",
       "        }    #T_beda5a38_cec7_11eb_aead_acde48001122row9_col3 {\n",
       "            background-color:  #dcdddd;\n",
       "            color:  #000000;\n",
       "        }    #T_beda5a38_cec7_11eb_aead_acde48001122row9_col4 {\n",
       "            background-color:  #c1d4f4;\n",
       "            color:  #000000;\n",
       "        }    #T_beda5a38_cec7_11eb_aead_acde48001122row9_col5 {\n",
       "            background-color:  #b6cefa;\n",
       "            color:  #000000;\n",
       "        }    #T_beda5a38_cec7_11eb_aead_acde48001122row9_col6 {\n",
       "            background-color:  #e2dad5;\n",
       "            color:  #000000;\n",
       "        }    #T_beda5a38_cec7_11eb_aead_acde48001122row9_col7 {\n",
       "            background-color:  #c6d6f1;\n",
       "            color:  #000000;\n",
       "        }    #T_beda5a38_cec7_11eb_aead_acde48001122row9_col8 {\n",
       "            background-color:  #9abbff;\n",
       "            color:  #000000;\n",
       "        }    #T_beda5a38_cec7_11eb_aead_acde48001122row9_col9 {\n",
       "            background-color:  #b40426;\n",
       "            color:  #f1f1f1;\n",
       "        }</style><table id=\"T_beda5a38_cec7_11eb_aead_acde48001122\" ><thead>    <tr>        <th class=\"blank level0\" ></th>        <th class=\"col_heading level0 col0\" >Mileage(miles)</th>        <th class=\"col_heading level0 col1\" >Brochure Engine size(litre)</th>        <th class=\"col_heading level0 col2\" >Fuel Consumption(mpg)</th>        <th class=\"col_heading level0 col3\" >CO2 emissions(g/km)</th>        <th class=\"col_heading level0 col4\" >Engine Power(bhp)</th>        <th class=\"col_heading level0 col5\" >Engine size(cc)</th>        <th class=\"col_heading level0 col6\" >Acceleration(0-62mph in seconds)</th>        <th class=\"col_heading level0 col7\" >Top Speed(mph)</th>        <th class=\"col_heading level0 col8\" >Fuel Capacity(litres)</th>        <th class=\"col_heading level0 col9\" >Price £</th>    </tr></thead><tbody>\n",
       "                <tr>\n",
       "                        <th id=\"T_beda5a38_cec7_11eb_aead_acde48001122level0_row0\" class=\"row_heading level0 row0\" >Mileage(miles)</th>\n",
       "                        <td id=\"T_beda5a38_cec7_11eb_aead_acde48001122row0_col0\" class=\"data row0 col0\" >1.000000</td>\n",
       "                        <td id=\"T_beda5a38_cec7_11eb_aead_acde48001122row0_col1\" class=\"data row0 col1\" >0.090107</td>\n",
       "                        <td id=\"T_beda5a38_cec7_11eb_aead_acde48001122row0_col2\" class=\"data row0 col2\" >-0.162393</td>\n",
       "                        <td id=\"T_beda5a38_cec7_11eb_aead_acde48001122row0_col3\" class=\"data row0 col3\" >0.190403</td>\n",
       "                        <td id=\"T_beda5a38_cec7_11eb_aead_acde48001122row0_col4\" class=\"data row0 col4\" >-0.006982</td>\n",
       "                        <td id=\"T_beda5a38_cec7_11eb_aead_acde48001122row0_col5\" class=\"data row0 col5\" >0.098004</td>\n",
       "                        <td id=\"T_beda5a38_cec7_11eb_aead_acde48001122row0_col6\" class=\"data row0 col6\" >0.031318</td>\n",
       "                        <td id=\"T_beda5a38_cec7_11eb_aead_acde48001122row0_col7\" class=\"data row0 col7\" >0.000470</td>\n",
       "                        <td id=\"T_beda5a38_cec7_11eb_aead_acde48001122row0_col8\" class=\"data row0 col8\" >0.118530</td>\n",
       "                        <td id=\"T_beda5a38_cec7_11eb_aead_acde48001122row0_col9\" class=\"data row0 col9\" >0.133389</td>\n",
       "            </tr>\n",
       "            <tr>\n",
       "                        <th id=\"T_beda5a38_cec7_11eb_aead_acde48001122level0_row1\" class=\"row_heading level0 row1\" >Brochure Engine size(litre)</th>\n",
       "                        <td id=\"T_beda5a38_cec7_11eb_aead_acde48001122row1_col0\" class=\"data row1 col0\" >0.090107</td>\n",
       "                        <td id=\"T_beda5a38_cec7_11eb_aead_acde48001122row1_col1\" class=\"data row1 col1\" >1.000000</td>\n",
       "                        <td id=\"T_beda5a38_cec7_11eb_aead_acde48001122row1_col2\" class=\"data row1 col2\" >-0.195453</td>\n",
       "                        <td id=\"T_beda5a38_cec7_11eb_aead_acde48001122row1_col3\" class=\"data row1 col3\" >0.530732</td>\n",
       "                        <td id=\"T_beda5a38_cec7_11eb_aead_acde48001122row1_col4\" class=\"data row1 col4\" >0.772192</td>\n",
       "                        <td id=\"T_beda5a38_cec7_11eb_aead_acde48001122row1_col5\" class=\"data row1 col5\" >0.894412</td>\n",
       "                        <td id=\"T_beda5a38_cec7_11eb_aead_acde48001122row1_col6\" class=\"data row1 col6\" >-0.589274</td>\n",
       "                        <td id=\"T_beda5a38_cec7_11eb_aead_acde48001122row1_col7\" class=\"data row1 col7\" >0.633281</td>\n",
       "                        <td id=\"T_beda5a38_cec7_11eb_aead_acde48001122row1_col8\" class=\"data row1 col8\" >0.628294</td>\n",
       "                        <td id=\"T_beda5a38_cec7_11eb_aead_acde48001122row1_col9\" class=\"data row1 col9\" >-0.036632</td>\n",
       "            </tr>\n",
       "            <tr>\n",
       "                        <th id=\"T_beda5a38_cec7_11eb_aead_acde48001122level0_row2\" class=\"row_heading level0 row2\" >Fuel Consumption(mpg)</th>\n",
       "                        <td id=\"T_beda5a38_cec7_11eb_aead_acde48001122row2_col0\" class=\"data row2 col0\" >-0.162393</td>\n",
       "                        <td id=\"T_beda5a38_cec7_11eb_aead_acde48001122row2_col1\" class=\"data row2 col1\" >-0.195453</td>\n",
       "                        <td id=\"T_beda5a38_cec7_11eb_aead_acde48001122row2_col2\" class=\"data row2 col2\" >1.000000</td>\n",
       "                        <td id=\"T_beda5a38_cec7_11eb_aead_acde48001122row2_col3\" class=\"data row2 col3\" >-0.652135</td>\n",
       "                        <td id=\"T_beda5a38_cec7_11eb_aead_acde48001122row2_col4\" class=\"data row2 col4\" >-0.270367</td>\n",
       "                        <td id=\"T_beda5a38_cec7_11eb_aead_acde48001122row2_col5\" class=\"data row2 col5\" >-0.170595</td>\n",
       "                        <td id=\"T_beda5a38_cec7_11eb_aead_acde48001122row2_col6\" class=\"data row2 col6\" >0.122645</td>\n",
       "                        <td id=\"T_beda5a38_cec7_11eb_aead_acde48001122row2_col7\" class=\"data row2 col7\" >-0.094140</td>\n",
       "                        <td id=\"T_beda5a38_cec7_11eb_aead_acde48001122row2_col8\" class=\"data row2 col8\" >-0.214438</td>\n",
       "                        <td id=\"T_beda5a38_cec7_11eb_aead_acde48001122row2_col9\" class=\"data row2 col9\" >-0.143390</td>\n",
       "            </tr>\n",
       "            <tr>\n",
       "                        <th id=\"T_beda5a38_cec7_11eb_aead_acde48001122level0_row3\" class=\"row_heading level0 row3\" >CO2 emissions(g/km)</th>\n",
       "                        <td id=\"T_beda5a38_cec7_11eb_aead_acde48001122row3_col0\" class=\"data row3 col0\" >0.190403</td>\n",
       "                        <td id=\"T_beda5a38_cec7_11eb_aead_acde48001122row3_col1\" class=\"data row3 col1\" >0.530732</td>\n",
       "                        <td id=\"T_beda5a38_cec7_11eb_aead_acde48001122row3_col2\" class=\"data row3 col2\" >-0.652135</td>\n",
       "                        <td id=\"T_beda5a38_cec7_11eb_aead_acde48001122row3_col3\" class=\"data row3 col3\" >1.000000</td>\n",
       "                        <td id=\"T_beda5a38_cec7_11eb_aead_acde48001122row3_col4\" class=\"data row3 col4\" >0.470260</td>\n",
       "                        <td id=\"T_beda5a38_cec7_11eb_aead_acde48001122row3_col5\" class=\"data row3 col5\" >0.618716</td>\n",
       "                        <td id=\"T_beda5a38_cec7_11eb_aead_acde48001122row3_col6\" class=\"data row3 col6\" >-0.212249</td>\n",
       "                        <td id=\"T_beda5a38_cec7_11eb_aead_acde48001122row3_col7\" class=\"data row3 col7\" >0.276442</td>\n",
       "                        <td id=\"T_beda5a38_cec7_11eb_aead_acde48001122row3_col8\" class=\"data row3 col8\" >0.552526</td>\n",
       "                        <td id=\"T_beda5a38_cec7_11eb_aead_acde48001122row3_col9\" class=\"data row3 col9\" >0.168529</td>\n",
       "            </tr>\n",
       "            <tr>\n",
       "                        <th id=\"T_beda5a38_cec7_11eb_aead_acde48001122level0_row4\" class=\"row_heading level0 row4\" >Engine Power(bhp)</th>\n",
       "                        <td id=\"T_beda5a38_cec7_11eb_aead_acde48001122row4_col0\" class=\"data row4 col0\" >-0.006982</td>\n",
       "                        <td id=\"T_beda5a38_cec7_11eb_aead_acde48001122row4_col1\" class=\"data row4 col1\" >0.772192</td>\n",
       "                        <td id=\"T_beda5a38_cec7_11eb_aead_acde48001122row4_col2\" class=\"data row4 col2\" >-0.270367</td>\n",
       "                        <td id=\"T_beda5a38_cec7_11eb_aead_acde48001122row4_col3\" class=\"data row4 col3\" >0.470260</td>\n",
       "                        <td id=\"T_beda5a38_cec7_11eb_aead_acde48001122row4_col4\" class=\"data row4 col4\" >1.000000</td>\n",
       "                        <td id=\"T_beda5a38_cec7_11eb_aead_acde48001122row4_col5\" class=\"data row4 col5\" >0.774998</td>\n",
       "                        <td id=\"T_beda5a38_cec7_11eb_aead_acde48001122row4_col6\" class=\"data row4 col6\" >-0.798947</td>\n",
       "                        <td id=\"T_beda5a38_cec7_11eb_aead_acde48001122row4_col7\" class=\"data row4 col7\" >0.795552</td>\n",
       "                        <td id=\"T_beda5a38_cec7_11eb_aead_acde48001122row4_col8\" class=\"data row4 col8\" >0.500489</td>\n",
       "                        <td id=\"T_beda5a38_cec7_11eb_aead_acde48001122row4_col9\" class=\"data row4 col9\" >-0.069949</td>\n",
       "            </tr>\n",
       "            <tr>\n",
       "                        <th id=\"T_beda5a38_cec7_11eb_aead_acde48001122level0_row5\" class=\"row_heading level0 row5\" >Engine size(cc)</th>\n",
       "                        <td id=\"T_beda5a38_cec7_11eb_aead_acde48001122row5_col0\" class=\"data row5 col0\" >0.098004</td>\n",
       "                        <td id=\"T_beda5a38_cec7_11eb_aead_acde48001122row5_col1\" class=\"data row5 col1\" >0.894412</td>\n",
       "                        <td id=\"T_beda5a38_cec7_11eb_aead_acde48001122row5_col2\" class=\"data row5 col2\" >-0.170595</td>\n",
       "                        <td id=\"T_beda5a38_cec7_11eb_aead_acde48001122row5_col3\" class=\"data row5 col3\" >0.618716</td>\n",
       "                        <td id=\"T_beda5a38_cec7_11eb_aead_acde48001122row5_col4\" class=\"data row5 col4\" >0.774998</td>\n",
       "                        <td id=\"T_beda5a38_cec7_11eb_aead_acde48001122row5_col5\" class=\"data row5 col5\" >1.000000</td>\n",
       "                        <td id=\"T_beda5a38_cec7_11eb_aead_acde48001122row5_col6\" class=\"data row5 col6\" >-0.588365</td>\n",
       "                        <td id=\"T_beda5a38_cec7_11eb_aead_acde48001122row5_col7\" class=\"data row5 col7\" >0.621840</td>\n",
       "                        <td id=\"T_beda5a38_cec7_11eb_aead_acde48001122row5_col8\" class=\"data row5 col8\" >0.650227</td>\n",
       "                        <td id=\"T_beda5a38_cec7_11eb_aead_acde48001122row5_col9\" class=\"data row5 col9\" >-0.004738</td>\n",
       "            </tr>\n",
       "            <tr>\n",
       "                        <th id=\"T_beda5a38_cec7_11eb_aead_acde48001122level0_row6\" class=\"row_heading level0 row6\" >Acceleration(0-62mph in seconds)</th>\n",
       "                        <td id=\"T_beda5a38_cec7_11eb_aead_acde48001122row6_col0\" class=\"data row6 col0\" >0.031318</td>\n",
       "                        <td id=\"T_beda5a38_cec7_11eb_aead_acde48001122row6_col1\" class=\"data row6 col1\" >-0.589274</td>\n",
       "                        <td id=\"T_beda5a38_cec7_11eb_aead_acde48001122row6_col2\" class=\"data row6 col2\" >0.122645</td>\n",
       "                        <td id=\"T_beda5a38_cec7_11eb_aead_acde48001122row6_col3\" class=\"data row6 col3\" >-0.212249</td>\n",
       "                        <td id=\"T_beda5a38_cec7_11eb_aead_acde48001122row6_col4\" class=\"data row6 col4\" >-0.798947</td>\n",
       "                        <td id=\"T_beda5a38_cec7_11eb_aead_acde48001122row6_col5\" class=\"data row6 col5\" >-0.588365</td>\n",
       "                        <td id=\"T_beda5a38_cec7_11eb_aead_acde48001122row6_col6\" class=\"data row6 col6\" >1.000000</td>\n",
       "                        <td id=\"T_beda5a38_cec7_11eb_aead_acde48001122row6_col7\" class=\"data row6 col7\" >-0.876140</td>\n",
       "                        <td id=\"T_beda5a38_cec7_11eb_aead_acde48001122row6_col8\" class=\"data row6 col8\" >-0.359912</td>\n",
       "                        <td id=\"T_beda5a38_cec7_11eb_aead_acde48001122row6_col9\" class=\"data row6 col9\" >0.098893</td>\n",
       "            </tr>\n",
       "            <tr>\n",
       "                        <th id=\"T_beda5a38_cec7_11eb_aead_acde48001122level0_row7\" class=\"row_heading level0 row7\" >Top Speed(mph)</th>\n",
       "                        <td id=\"T_beda5a38_cec7_11eb_aead_acde48001122row7_col0\" class=\"data row7 col0\" >0.000470</td>\n",
       "                        <td id=\"T_beda5a38_cec7_11eb_aead_acde48001122row7_col1\" class=\"data row7 col1\" >0.633281</td>\n",
       "                        <td id=\"T_beda5a38_cec7_11eb_aead_acde48001122row7_col2\" class=\"data row7 col2\" >-0.094140</td>\n",
       "                        <td id=\"T_beda5a38_cec7_11eb_aead_acde48001122row7_col3\" class=\"data row7 col3\" >0.276442</td>\n",
       "                        <td id=\"T_beda5a38_cec7_11eb_aead_acde48001122row7_col4\" class=\"data row7 col4\" >0.795552</td>\n",
       "                        <td id=\"T_beda5a38_cec7_11eb_aead_acde48001122row7_col5\" class=\"data row7 col5\" >0.621840</td>\n",
       "                        <td id=\"T_beda5a38_cec7_11eb_aead_acde48001122row7_col6\" class=\"data row7 col6\" >-0.876140</td>\n",
       "                        <td id=\"T_beda5a38_cec7_11eb_aead_acde48001122row7_col7\" class=\"data row7 col7\" >1.000000</td>\n",
       "                        <td id=\"T_beda5a38_cec7_11eb_aead_acde48001122row7_col8\" class=\"data row7 col8\" >0.432755</td>\n",
       "                        <td id=\"T_beda5a38_cec7_11eb_aead_acde48001122row7_col9\" class=\"data row7 col9\" >-0.087645</td>\n",
       "            </tr>\n",
       "            <tr>\n",
       "                        <th id=\"T_beda5a38_cec7_11eb_aead_acde48001122level0_row8\" class=\"row_heading level0 row8\" >Fuel Capacity(litres)</th>\n",
       "                        <td id=\"T_beda5a38_cec7_11eb_aead_acde48001122row8_col0\" class=\"data row8 col0\" >0.118530</td>\n",
       "                        <td id=\"T_beda5a38_cec7_11eb_aead_acde48001122row8_col1\" class=\"data row8 col1\" >0.628294</td>\n",
       "                        <td id=\"T_beda5a38_cec7_11eb_aead_acde48001122row8_col2\" class=\"data row8 col2\" >-0.214438</td>\n",
       "                        <td id=\"T_beda5a38_cec7_11eb_aead_acde48001122row8_col3\" class=\"data row8 col3\" >0.552526</td>\n",
       "                        <td id=\"T_beda5a38_cec7_11eb_aead_acde48001122row8_col4\" class=\"data row8 col4\" >0.500489</td>\n",
       "                        <td id=\"T_beda5a38_cec7_11eb_aead_acde48001122row8_col5\" class=\"data row8 col5\" >0.650227</td>\n",
       "                        <td id=\"T_beda5a38_cec7_11eb_aead_acde48001122row8_col6\" class=\"data row8 col6\" >-0.359912</td>\n",
       "                        <td id=\"T_beda5a38_cec7_11eb_aead_acde48001122row8_col7\" class=\"data row8 col7\" >0.432755</td>\n",
       "                        <td id=\"T_beda5a38_cec7_11eb_aead_acde48001122row8_col8\" class=\"data row8 col8\" >1.000000</td>\n",
       "                        <td id=\"T_beda5a38_cec7_11eb_aead_acde48001122row8_col9\" class=\"data row8 col9\" >0.032451</td>\n",
       "            </tr>\n",
       "            <tr>\n",
       "                        <th id=\"T_beda5a38_cec7_11eb_aead_acde48001122level0_row9\" class=\"row_heading level0 row9\" >Price £</th>\n",
       "                        <td id=\"T_beda5a38_cec7_11eb_aead_acde48001122row9_col0\" class=\"data row9 col0\" >0.133389</td>\n",
       "                        <td id=\"T_beda5a38_cec7_11eb_aead_acde48001122row9_col1\" class=\"data row9 col1\" >-0.036632</td>\n",
       "                        <td id=\"T_beda5a38_cec7_11eb_aead_acde48001122row9_col2\" class=\"data row9 col2\" >-0.143390</td>\n",
       "                        <td id=\"T_beda5a38_cec7_11eb_aead_acde48001122row9_col3\" class=\"data row9 col3\" >0.168529</td>\n",
       "                        <td id=\"T_beda5a38_cec7_11eb_aead_acde48001122row9_col4\" class=\"data row9 col4\" >-0.069949</td>\n",
       "                        <td id=\"T_beda5a38_cec7_11eb_aead_acde48001122row9_col5\" class=\"data row9 col5\" >-0.004738</td>\n",
       "                        <td id=\"T_beda5a38_cec7_11eb_aead_acde48001122row9_col6\" class=\"data row9 col6\" >0.098893</td>\n",
       "                        <td id=\"T_beda5a38_cec7_11eb_aead_acde48001122row9_col7\" class=\"data row9 col7\" >-0.087645</td>\n",
       "                        <td id=\"T_beda5a38_cec7_11eb_aead_acde48001122row9_col8\" class=\"data row9 col8\" >0.032451</td>\n",
       "                        <td id=\"T_beda5a38_cec7_11eb_aead_acde48001122row9_col9\" class=\"data row9 col9\" >1.000000</td>\n",
       "            </tr>\n",
       "    </tbody></table>"
      ],
      "text/plain": [
       "<pandas.io.formats.style.Styler at 0x7feb3ab0db50>"
      ]
     },
     "execution_count": 35,
     "metadata": {},
     "output_type": "execute_result"
    }
   ],
   "source": [
    "#Let's map the correlation heatmap\n",
    "corr = correlation_dataframe.corr()\n",
    "corr.style.background_gradient(cmap='coolwarm')"
   ]
  },
  {
   "cell_type": "markdown",
   "metadata": {},
   "source": [
    "### Correlation matrix\n",
    "- Mileage and CO2 emissions are strongly correlated(0.190).Mileage and Price is also strongly correlated(0.133)\n",
    "- Brochure Engine size and CO2 emission is strongly correlated(0.53)\n",
    "- Brochure Engine size and Engine size are strongly correlated(0.89)\n",
    "- Brochure Engine size and Engine power are strongly correlated(0.77)\n",
    "- Brochure Engine size and Top. speed are strongly correlated(0.63)\n",
    "- Brochure Engine size and Fuel Capacity are strongly correlated(0.62)\n",
    "- Fuel Consumption and acceleration are strongly correlated(0.122)\n",
    "- CO2 emissions(g/km) and Brochure Engine size are strongly correlated with 0.53\n",
    "- CO2 emissions(g/km) and Engine Power are strongly correlated with 0.47\n",
    "- CO2 emissions(g/km) and Engine size are strongly correlated with 0.61\n",
    "- CO2 emissions(g/km) and Fuel Capacity are strongly correlated with 0.55\n",
    "- Engine Power and Brochure engine size are strongly correlated with 0.55\n",
    "- Engine Power and CO2 emissions are strongly correlated with 0.47\n",
    "- Engine Power and Engine size are strongly correlated with 0.77\n",
    "- Engine Power and Top Speed are strongly correlated with 0.79\n",
    "- Engine size and Brochur Engine size are strongly correlated with 0.89\n",
    "- Engine size and C02 emissions size are strongly correlated with 0.61\n",
    "- Engine size and engine power are strongly correlated with 0.77\n",
    "- Engine size and fuel capacity are strongly correlated with 0.65\n",
    "- Acceleration and mileage and price and fuel consumption are strongly correlated with 0.03 and 0.09 and 0.12 respectively\n",
    "- Top Speed and brochure engine size are strongly correlated with 0.633\n",
    "- Top Speed and engine power are strongly correlated with 0.79\n",
    "- Top speed and engine size are strongly correlated with 0.62\n",
    "- Fuel Capacity and brochure engine size are strongly correlated with 0.62\n",
    "- Fuel capacity and CO2 emissions are strongly correlated with 0.55\n",
    "- Fuel capacity and Engine size are strongly correlated with 0.65\n",
    "- Price and CO2 emissions are strongly correlated with 0.16\n",
    "\n",
    "\n"
   ]
  },
  {
   "cell_type": "markdown",
   "metadata": {},
   "source": [
    "Good article on Interpreting Correlation Coefficient\n",
    "https://statisticsbyjim.com/basics/correlations/#:~:text=Correlation%20between%20two%20variables%20indicates,changes%20in%20the%20other%20variable."
   ]
  },
  {
   "cell_type": "code",
   "execution_count": 70,
   "metadata": {},
   "outputs": [
    {
     "data": {
      "image/png": "[encoded data removed]",
      "text/plain": [
       "<Figure size 1080x360 with 1 Axes>"
      ]
     },
     "metadata": {
      "needs_background": "light"
     },
     "output_type": "display_data"
    }
   ],
   "source": [
    "#Let's scatterplot the mileage and CO2 emissions\n",
    "plt.figure(figsize=(15, 5))\n",
    "plt.scatter(x=final_dataset['CO2 emissions(g/km)'], y=final_dataset['Mileage(miles)'])\n",
    "plt.title('Scatterplot of relation between mileage and CO2 emissions')\n",
    "plt.xlabel('CO2 emissions')\n",
    "plt.ylabel('Mileage')\n",
    "plt.show()\n",
    "\n",
    "#Check how we can clear up the below clustered data  "
   ]
  },
  {
   "cell_type": "code",
   "execution_count": 37,
   "metadata": {},
   "outputs": [],
   "source": [
    "#Brochure engine size\n",
    "#Before googling the data, we need to check which rows of brochure engine size datas are missing from and which car it belongs to\n",
    "# The four missing values for borchure are \n",
    "#2008 Toyota Hilux 3.0l Invincible ---> 3.0L\n",
    "#2011 Volkswagen golf match TDI 1.6 105 PS HatchBack -->1.6L\n",
    "#2021 Citroen C4 50kWh Shine Plus Auto 5dr HatchBack --Electric\n",
    "#2021 Nissan Navara Brand new 2121 model Double hatchback-->2.3L\n",
    "\n",
    "#Looks like some of the empty brochure size is of that of electric cars, so let's clean that aswell"
   ]
  }
 ],
 "metadata": {
  "kernelspec": {
   "display_name": "Python 3",
   "language": "python",
   "name": "python3"
  },
  "language_info": {
   "codemirror_mode": {
    "name": "ipython",
    "version": 3
   },
   "file_extension": ".py",
   "mimetype": "text/x-python",
   "name": "python",
   "nbconvert_exporter": "python",
   "pygments_lexer": "ipython3",
   "version": "3.7.6"
  }
 },
 "nbformat": 4,
 "nbformat_minor": 4
}
