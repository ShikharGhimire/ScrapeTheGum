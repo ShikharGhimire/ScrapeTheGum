{
 "cells": [
  {
   "cell_type": "code",
   "execution_count": 1,
   "metadata": {},
   "outputs": [],
   "source": [
    "from bs4 import BeautifulSoup as bs\n",
    "import requests\n",
    "import numpy as np\n",
    "import pandas as pd\n",
    "import matplotlib.pyplot as plt\n",
    "import seaborn as sns\n",
    "import json"
   ]
  },
  {
   "cell_type": "code",
   "execution_count": 2,
   "metadata": {},
   "outputs": [],
   "source": [
    "def car_info(link):\n",
    "    cars = requests.get(link,'html.parser')\n",
    "    soup = bs(cars.content)\n",
    "    coloumns = []\n",
    "    info = []\n",
    "    #Getting all the info from the information boxes\n",
    "    for i in soup.select('th',class_= 'css-1pusycv e155vlc0'):\n",
    "        coloumns.append(i.text)\n",
    "    for j in soup.select('td',class_ ='attributes-table-value'):\n",
    "        info.append(j.get_text('',strip=True))\n",
    "    dictionary = dict(zip(coloumns,info)) #zipping the file and converting it into dict\n",
    "    #Getting the price of the car\n",
    "    price = soup.find(class_ = 'ad-price txt-xlarge txt-emphasis inline-block')\n",
    "    dictionary['Price'] = price.get_text('',strip=True)\n",
    "    #Extracting the name of the car\n",
    "    title = soup.select('h1',class_ ='css-1uk1gs8 e1pt9h6u3')\n",
    "    title = str(title)\n",
    "    title = title.split('>')\n",
    "    dictionary['Name'] = title[1]\n",
    "    #Extracting the location\n",
    "    location = soup.find(class_ = 'ad-location truncate-line set-left')\n",
    "    dictionary['Location'] = location.get_text('',strip = True)\n",
    "    return dictionary"
   ]
  },
  {
   "cell_type": "code",
   "execution_count": null,
   "metadata": {},
   "outputs": [],
   "source": [
    "cars = requests.get('https://www.gumtree.com//cars/uk/page33?vehicle_seats','html.parser')\n",
    "soup = bs(cars.content)"
   ]
  },
  {
   "cell_type": "code",
   "execution_count": 4,
   "metadata": {},
   "outputs": [],
   "source": [
    "#Creating a nested list to gather all the arrays to put into\n",
    "#For testing\n",
    "links = [] #Let's gather all the links in this list\n",
    "baselink = 'www.gumtree.com'\n",
    "for i in soup.select('article',class_='clearfix list-listing-maxi'):\n",
    "    link = i.find('a',href=True)\n",
    "    links.append(baselink+link['href'])"
   ]
  },
  {
   "cell_type": "code",
   "execution_count": 5,
   "metadata": {},
   "outputs": [],
   "source": [
    "#Creating tabs \n",
    "tabs = []#There are alltogether 50 tabs on the whole 5 wheeler cars and 30 sublinks on each of them\n",
    "for i in range(2,51):\n",
    "    tabs.append('page{}'.format(i))"
   ]
  },
  {
   "cell_type": "code",
   "execution_count": 6,
   "metadata": {},
   "outputs": [],
   "source": [
    "pages_base_link = 'https://www.gumtree.com/'\n",
    "hyperlink ='cars/uk/page2?vehicle_seats=5' #Change this link if you want to access other website links\n",
    "all_webpages = []\n",
    "final_webpages = [] #The final webpages with all the main link from the webpages\n",
    "for i in range(len(tabs)):\n",
    "    for j in tabs:\n",
    "        all_webpages.append(hyperlink.replace('page2',j))\n",
    "all_webpages = all_webpages[:49] #Extracting just the 49 links\n",
    "for i in all_webpages:\n",
    "    final_webpages.append('https://www.gumtree.com/'+i)"
   ]
  },
  {
   "cell_type": "code",
   "execution_count": 7,
   "metadata": {},
   "outputs": [],
   "source": [
    "#Extracting all the sublinks from the links\n",
    "all_subwebpages = []\n",
    "for i in final_webpages:\n",
    "    cars = requests.get(i,'html.parser')\n",
    "    baselink = 'https://www.gumtree.com'\n",
    "    soup = bs(cars.content)\n",
    "    for j in soup.select('article',class_='clearfix list-listing-maxi'):\n",
    "        link = j.find('a',href = True)\n",
    "        all_subwebpages.append(baselink+link['href'])\n",
    "\n",
    "all_subwebpages.remove('www.gumtree.com') #Removing the links that only contain "
   ]
  },
  {
   "cell_type": "code",
   "execution_count": null,
   "metadata": {},
   "outputs": [],
   "source": []
  }
 ],
 "metadata": {
  "kernelspec": {
   "display_name": "Python 3",
   "language": "python",
   "name": "python3"
  },
  "language_info": {
   "codemirror_mode": {
    "name": "ipython",
    "version": 3
   },
   "file_extension": ".py",
   "mimetype": "text/x-python",
   "name": "python",
   "nbconvert_exporter": "python",
   "pygments_lexer": "ipython3",
   "version": "3.7.6"
  }
 },
 "nbformat": 4,
 "nbformat_minor": 4
}
