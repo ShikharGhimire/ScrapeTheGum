{
 "cells": [
  {
   "cell_type": "code",
   "execution_count": 1,
   "metadata": {},
   "outputs": [],
   "source": [
    "from bs4 import BeautifulSoup as bs\n",
    "import requests\n",
    "import numpy as np\n",
    "import pandas as pd\n",
    "import matplotlib.pyplot as plt\n",
    "import seaborn as sns\n",
    "import json"
   ]
  },
  {
   "cell_type": "code",
   "execution_count": 2,
   "metadata": {},
   "outputs": [],
   "source": [
    "def car_info(link):\n",
    "    cars = requests.get(link,'html.parser')\n",
    "    soup = bs(cars.content)\n",
    "    coloumns = []\n",
    "    info = []\n",
    "    #Getting all the info from the information boxes\n",
    "    for i in soup.select('th',class_= 'css-1pusycv e155vlc0'):\n",
    "        coloumns.append(i.text)\n",
    "    for j in soup.select('td',class_ ='attributes-table-value'):\n",
    "        info.append(j.get_text('',strip=True))\n",
    "    dictionary = dict(zip(coloumns,info)) #zipping the file and converting it into dict\n",
    "    #Getting the price of the car\n",
    "    price = soup.find(class_ = 'ad-price txt-xlarge txt-emphasis inline-block')\n",
    "    dictionary['Price'] = price.get_text('',strip=True)\n",
    "    #Extracting the name of the car\n",
    "    title = soup.select('h1',class_ ='css-1uk1gs8 e1pt9h6u3')\n",
    "    title = str(title)\n",
    "    title = title.split('>')\n",
    "    dictionary['Name'] = title[1]\n",
    "    #Extracting the location\n",
    "    location = soup.find(class_ = 'ad-location truncate-line set-left')\n",
    "    dictionary['Location'] = location.get_text('',strip = True)\n",
    "    return dictionary"
   ]
  },
  {
   "cell_type": "code",
   "execution_count": 3,
   "metadata": {},
   "outputs": [
    {
     "data": {
      "text/plain": [
       "{'Year': '2003',\n",
       " 'Body type': 'Saloon',\n",
       " 'Mileage': '124,281miles',\n",
       " 'Transmission': 'Manual',\n",
       " 'Brochure Engine size': '1.8L',\n",
       " 'Fuel type': 'Petrol',\n",
       " 'Urban mpg': '23.3mpg',\n",
       " 'Extra Urban mpg': '44.1mpg',\n",
       " 'Fuel Consumption': '33.2mpg',\n",
       " 'Insurance Group': '26A',\n",
       " 'CO2 emissions': '202g/km',\n",
       " 'Euro Emissions': 'Euro 3',\n",
       " 'Engine Power': '138.1bhp',\n",
       " 'Engine size': '1747cc',\n",
       " 'Acceleration (0-62mph)': '9.4seconds',\n",
       " 'Top Speed': '129mph',\n",
       " 'Seats': '5',\n",
       " 'Doors': '4',\n",
       " 'Colour': 'Red',\n",
       " 'Fuel Capacity': '63litres',\n",
       " 'Luggage Capacity (seats up)': '378litres',\n",
       " 'Price': '£799.00',\n",
       " 'Name': 'Alfa Romeo, 156, Saloon, 2003, Manual, 1747 (cc), 4 doors</h1',\n",
       " 'Location': 'Kingsbury, London'}"
      ]
     },
     "execution_count": 3,
     "metadata": {},
     "output_type": "execute_result"
    }
   ],
   "source": [
    "car_info('https://www.gumtree.com/p/alfa-romeo/alfa-romeo-156-saloon-2003-manual-1747-cc-4-doors/1397076925')"
   ]
  },
  {
   "cell_type": "code",
   "execution_count": 4,
   "metadata": {},
   "outputs": [],
   "source": [
    "cars = requests.get('https://www.gumtree.com/cars/uk?vehicle_seats=5','html.parser')\n",
    "soup = bs(cars.content)"
   ]
  },
  {
   "cell_type": "code",
   "execution_count": 5,
   "metadata": {},
   "outputs": [],
   "source": [
    "#Creating a nested list to gather all the arrays to put into\n",
    "links = [] #Let's gather all the links in this list\n",
    "baselink = 'www.gumtree.com'\n",
    "for i in soup.select('article',class_='clearfix list-listing-maxi'):\n",
    "    link = i.find('a',href=True)\n",
    "    links.append(baselink+link['href'])"
   ]
  },
  {
   "cell_type": "code",
   "execution_count": 32,
   "metadata": {},
   "outputs": [],
   "source": [
    "#Creating tabs \n",
    "tabs = []#There are alltogether 50 tabs on the whole 5 wheeler cars and 30 sublinks on each of them\n",
    "for i in range(2,51):\n",
    "    tabs.append('page{}'.format(i))"
   ]
  },
  {
   "cell_type": "code",
   "execution_count": 42,
   "metadata": {},
   "outputs": [],
   "source": [
    "pages_base_link = 'https://www.gumtree.com/'\n",
    "hyperlink = '/cars/uk/page2?vehicle_seats'\n",
    "all_webpages = []\n",
    "final_webpages = []\n",
    "for i in range(len(tabs)):\n",
    "    for j in tabs:\n",
    "        all_webpages.append(hyperlink.replace('page2',j))\n",
    "all_webpages = all_webpages[:49] #Extracting just the 49 links\n",
    "for i in all_webpages:\n",
    "    final_webpages.append('https://www.gumtree.com/'+i)"
   ]
  },
  {
   "cell_type": "code",
   "execution_count": 43,
   "metadata": {},
   "outputs": [
    {
     "data": {
      "text/plain": [
       "['https://www.gumtree.com//cars/uk/page2?vehicle_seats',\n",
       " 'https://www.gumtree.com//cars/uk/page3?vehicle_seats',\n",
       " 'https://www.gumtree.com//cars/uk/page4?vehicle_seats',\n",
       " 'https://www.gumtree.com//cars/uk/page5?vehicle_seats',\n",
       " 'https://www.gumtree.com//cars/uk/page6?vehicle_seats',\n",
       " 'https://www.gumtree.com//cars/uk/page7?vehicle_seats',\n",
       " 'https://www.gumtree.com//cars/uk/page8?vehicle_seats',\n",
       " 'https://www.gumtree.com//cars/uk/page9?vehicle_seats',\n",
       " 'https://www.gumtree.com//cars/uk/page10?vehicle_seats',\n",
       " 'https://www.gumtree.com//cars/uk/page11?vehicle_seats',\n",
       " 'https://www.gumtree.com//cars/uk/page12?vehicle_seats',\n",
       " 'https://www.gumtree.com//cars/uk/page13?vehicle_seats',\n",
       " 'https://www.gumtree.com//cars/uk/page14?vehicle_seats',\n",
       " 'https://www.gumtree.com//cars/uk/page15?vehicle_seats',\n",
       " 'https://www.gumtree.com//cars/uk/page16?vehicle_seats',\n",
       " 'https://www.gumtree.com//cars/uk/page17?vehicle_seats',\n",
       " 'https://www.gumtree.com//cars/uk/page18?vehicle_seats',\n",
       " 'https://www.gumtree.com//cars/uk/page19?vehicle_seats',\n",
       " 'https://www.gumtree.com//cars/uk/page20?vehicle_seats',\n",
       " 'https://www.gumtree.com//cars/uk/page21?vehicle_seats',\n",
       " 'https://www.gumtree.com//cars/uk/page22?vehicle_seats',\n",
       " 'https://www.gumtree.com//cars/uk/page23?vehicle_seats',\n",
       " 'https://www.gumtree.com//cars/uk/page24?vehicle_seats',\n",
       " 'https://www.gumtree.com//cars/uk/page25?vehicle_seats',\n",
       " 'https://www.gumtree.com//cars/uk/page26?vehicle_seats',\n",
       " 'https://www.gumtree.com//cars/uk/page27?vehicle_seats',\n",
       " 'https://www.gumtree.com//cars/uk/page28?vehicle_seats',\n",
       " 'https://www.gumtree.com//cars/uk/page29?vehicle_seats',\n",
       " 'https://www.gumtree.com//cars/uk/page30?vehicle_seats',\n",
       " 'https://www.gumtree.com//cars/uk/page31?vehicle_seats',\n",
       " 'https://www.gumtree.com//cars/uk/page32?vehicle_seats',\n",
       " 'https://www.gumtree.com//cars/uk/page33?vehicle_seats',\n",
       " 'https://www.gumtree.com//cars/uk/page34?vehicle_seats',\n",
       " 'https://www.gumtree.com//cars/uk/page35?vehicle_seats',\n",
       " 'https://www.gumtree.com//cars/uk/page36?vehicle_seats',\n",
       " 'https://www.gumtree.com//cars/uk/page37?vehicle_seats',\n",
       " 'https://www.gumtree.com//cars/uk/page38?vehicle_seats',\n",
       " 'https://www.gumtree.com//cars/uk/page39?vehicle_seats',\n",
       " 'https://www.gumtree.com//cars/uk/page40?vehicle_seats',\n",
       " 'https://www.gumtree.com//cars/uk/page41?vehicle_seats',\n",
       " 'https://www.gumtree.com//cars/uk/page42?vehicle_seats',\n",
       " 'https://www.gumtree.com//cars/uk/page43?vehicle_seats',\n",
       " 'https://www.gumtree.com//cars/uk/page44?vehicle_seats',\n",
       " 'https://www.gumtree.com//cars/uk/page45?vehicle_seats',\n",
       " 'https://www.gumtree.com//cars/uk/page46?vehicle_seats',\n",
       " 'https://www.gumtree.com//cars/uk/page47?vehicle_seats',\n",
       " 'https://www.gumtree.com//cars/uk/page48?vehicle_seats',\n",
       " 'https://www.gumtree.com//cars/uk/page49?vehicle_seats',\n",
       " 'https://www.gumtree.com//cars/uk/page50?vehicle_seats']"
      ]
     },
     "execution_count": 43,
     "metadata": {},
     "output_type": "execute_result"
    }
   ],
   "source": [
    "final_webpages"
   ]
  },
  {
   "cell_type": "code",
   "execution_count": null,
   "metadata": {},
   "outputs": [],
   "source": []
  }
 ],
 "metadata": {
  "kernelspec": {
   "display_name": "Python 3",
   "language": "python",
   "name": "python3"
  },
  "language_info": {
   "codemirror_mode": {
    "name": "ipython",
    "version": 3
   },
   "file_extension": ".py",
   "mimetype": "text/x-python",
   "name": "python",
   "nbconvert_exporter": "python",
   "pygments_lexer": "ipython3",
   "version": "3.7.6"
  }
 },
 "nbformat": 4,
 "nbformat_minor": 4
}
