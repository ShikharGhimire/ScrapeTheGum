{
 "cells": [
  {
   "cell_type": "code",
   "execution_count": 1,
   "metadata": {},
   "outputs": [],
   "source": [
    "from bs4 import BeautifulSoup as bs\n",
    "import requests\n",
    "import numpy as np\n",
    "import pandas as pd\n",
    "import matplotlib.pyplot as plt\n",
    "import seaborn as sns\n",
    "import json"
   ]
  },
  {
   "cell_type": "code",
   "execution_count": 2,
   "metadata": {},
   "outputs": [],
   "source": [
    "def car_info(link):\n",
    "    cars = requests.get(link,'html.parser')\n",
    "    soup = bs(cars.content)\n",
    "    coloumns = []\n",
    "    info = []\n",
    "    #Getting all the info from the information boxes\n",
    "    for i in soup.select('th',class_= 'css-1pusycv e155vlc0'):\n",
    "        coloumns.append(i.text)\n",
    "    for j in soup.select('td',class_ ='attributes-table-value'):\n",
    "        info.append(j.get_text('',strip=True))\n",
    "    dictionary = dict(zip(coloumns,info)) #zipping the file and converting it into dict\n",
    "    #Getting the price of the car\n",
    "    price = soup.find(class_ = 'ad-price txt-xlarge txt-emphasis inline-block')\n",
    "    dictionary['Price'] = price.get_text('',strip=True)\n",
    "    #Extracting the name of the car\n",
    "    title = soup.select('h1',class_ ='css-1uk1gs8 e1pt9h6u3')\n",
    "    title = str(title)\n",
    "    title = title.split('>')\n",
    "    dictionary['Name'] = title[1]\n",
    "    #Extracting the location\n",
    "    location = soup.find(class_ = 'ad-location truncate-line set-left')\n",
    "    dictionary['Location'] = location.get_text('',strip = True)\n",
    "    return dictionary"
   ]
  },
  {
   "cell_type": "code",
   "execution_count": 3,
   "metadata": {},
   "outputs": [
    {
     "data": {
      "text/plain": [
       "{'Year': '2003',\n",
       " 'Body type': 'Saloon',\n",
       " 'Mileage': '124,281miles',\n",
       " 'Transmission': 'Manual',\n",
       " 'Brochure Engine size': '1.8L',\n",
       " 'Fuel type': 'Petrol',\n",
       " 'Urban mpg': '23.3mpg',\n",
       " 'Extra Urban mpg': '44.1mpg',\n",
       " 'Fuel Consumption': '33.2mpg',\n",
       " 'Insurance Group': '26A',\n",
       " 'CO2 emissions': '202g/km',\n",
       " 'Euro Emissions': 'Euro 3',\n",
       " 'Engine Power': '138.1bhp',\n",
       " 'Engine size': '1747cc',\n",
       " 'Acceleration (0-62mph)': '9.4seconds',\n",
       " 'Top Speed': '129mph',\n",
       " 'Seats': '5',\n",
       " 'Doors': '4',\n",
       " 'Colour': 'Red',\n",
       " 'Fuel Capacity': '63litres',\n",
       " 'Luggage Capacity (seats up)': '378litres',\n",
       " 'Price': '£799.00',\n",
       " 'Name': 'Alfa Romeo, 156, Saloon, 2003, Manual, 1747 (cc), 4 doors</h1',\n",
       " 'Location': 'Kingsbury, London'}"
      ]
     },
     "execution_count": 3,
     "metadata": {},
     "output_type": "execute_result"
    }
   ],
   "source": [
    "car_info('https://www.gumtree.com/p/alfa-romeo/alfa-romeo-156-saloon-2003-manual-1747-cc-4-doors/1397076925')"
   ]
  },
  {
   "cell_type": "code",
   "execution_count": 4,
   "metadata": {},
   "outputs": [],
   "source": [
    "cars = requests.get('https://www.gumtree.com/cars/uk?vehicle_seats=5','html.parser')\n",
    "soup = bs(cars.content)"
   ]
  },
  {
   "cell_type": "code",
   "execution_count": 5,
   "metadata": {},
   "outputs": [],
   "source": [
    "#Creating a nested list to gather all the arrays to put into\n",
    "links = [] #Let's gather all the links in this list\n",
    "baselink = 'www.gumtree.com'\n",
    "for i in soup.select('article',class_='clearfix list-listing-maxi'):\n",
    "    link = i.find('a',href=True)\n",
    "    links.append(baselink+link['href'])"
   ]
  },
  {
   "cell_type": "code",
   "execution_count": 32,
   "metadata": {},
   "outputs": [],
   "source": [
    "#Creating tabs \n",
    "tabs = []#There are alltogether 50 tabs on the whole 5 wheeler cars and 30 sublinks on each of them\n",
    "for i in range(2,51):\n",
    "    tabs.append('page{}'.format(i))"
   ]
  },
  {
   "cell_type": "code",
   "execution_count": 39,
   "metadata": {},
   "outputs": [],
   "source": [
    "pages_base_link = 'https://www.gumtree.com/'\n",
    "hyperlink = '/cars/uk/page2?vehicle_seats'\n",
    "all_webpages = []\n",
    "for i in range(len(tabs)):\n",
    "    for j in tabs:\n",
    "        all_webpages.append(hyperlink.replace('page2',j))\n",
    "all_webpages = all_webpages[:49]\n",
    "# linked = soup.find('li',class_ = 'pagination-next' )\n",
    "# listed = str(linked)\n",
    "# listed = listed.split('>')\n",
    "# ind_link = listed[1].split(' ')\n",
    "# ind_link = ind_link[2]\n",
    "# ind_link = str(ind_link)\n",
    "# ind_link = ind_link.split('=')\n",
    "# ind_link = ind_link[1]"
   ]
  },
  {
   "cell_type": "code",
   "execution_count": 40,
   "metadata": {},
   "outputs": [
    {
     "data": {
      "text/plain": [
       "['/cars/uk/page2?vehicle_seats',\n",
       " '/cars/uk/page3?vehicle_seats',\n",
       " '/cars/uk/page4?vehicle_seats',\n",
       " '/cars/uk/page5?vehicle_seats',\n",
       " '/cars/uk/page6?vehicle_seats',\n",
       " '/cars/uk/page7?vehicle_seats',\n",
       " '/cars/uk/page8?vehicle_seats',\n",
       " '/cars/uk/page9?vehicle_seats',\n",
       " '/cars/uk/page10?vehicle_seats',\n",
       " '/cars/uk/page11?vehicle_seats',\n",
       " '/cars/uk/page12?vehicle_seats',\n",
       " '/cars/uk/page13?vehicle_seats',\n",
       " '/cars/uk/page14?vehicle_seats',\n",
       " '/cars/uk/page15?vehicle_seats',\n",
       " '/cars/uk/page16?vehicle_seats',\n",
       " '/cars/uk/page17?vehicle_seats',\n",
       " '/cars/uk/page18?vehicle_seats',\n",
       " '/cars/uk/page19?vehicle_seats',\n",
       " '/cars/uk/page20?vehicle_seats',\n",
       " '/cars/uk/page21?vehicle_seats',\n",
       " '/cars/uk/page22?vehicle_seats',\n",
       " '/cars/uk/page23?vehicle_seats',\n",
       " '/cars/uk/page24?vehicle_seats',\n",
       " '/cars/uk/page25?vehicle_seats',\n",
       " '/cars/uk/page26?vehicle_seats',\n",
       " '/cars/uk/page27?vehicle_seats',\n",
       " '/cars/uk/page28?vehicle_seats',\n",
       " '/cars/uk/page29?vehicle_seats',\n",
       " '/cars/uk/page30?vehicle_seats',\n",
       " '/cars/uk/page31?vehicle_seats',\n",
       " '/cars/uk/page32?vehicle_seats',\n",
       " '/cars/uk/page33?vehicle_seats',\n",
       " '/cars/uk/page34?vehicle_seats',\n",
       " '/cars/uk/page35?vehicle_seats',\n",
       " '/cars/uk/page36?vehicle_seats',\n",
       " '/cars/uk/page37?vehicle_seats',\n",
       " '/cars/uk/page38?vehicle_seats',\n",
       " '/cars/uk/page39?vehicle_seats',\n",
       " '/cars/uk/page40?vehicle_seats',\n",
       " '/cars/uk/page41?vehicle_seats',\n",
       " '/cars/uk/page42?vehicle_seats',\n",
       " '/cars/uk/page43?vehicle_seats',\n",
       " '/cars/uk/page44?vehicle_seats',\n",
       " '/cars/uk/page45?vehicle_seats',\n",
       " '/cars/uk/page46?vehicle_seats',\n",
       " '/cars/uk/page47?vehicle_seats',\n",
       " '/cars/uk/page48?vehicle_seats',\n",
       " '/cars/uk/page49?vehicle_seats',\n",
       " '/cars/uk/page50?vehicle_seats']"
      ]
     },
     "execution_count": 40,
     "metadata": {},
     "output_type": "execute_result"
    }
   ],
   "source": [
    "all_webpages"
   ]
  },
  {
   "cell_type": "code",
   "execution_count": 9,
   "metadata": {},
   "outputs": [
    {
     "ename": "AttributeError",
     "evalue": "'list' object has no attribute 'replace'",
     "output_type": "error",
     "traceback": [
      "\u001b[0;31m---------------------------------------------------------------------------\u001b[0m",
      "\u001b[0;31mAttributeError\u001b[0m                            Traceback (most recent call last)",
      "\u001b[0;32m<ipython-input-9-327be6df5137>\u001b[0m in \u001b[0;36m<module>\u001b[0;34m\u001b[0m\n\u001b[1;32m      1\u001b[0m \u001b[0;32mfor\u001b[0m \u001b[0mi\u001b[0m \u001b[0;32min\u001b[0m \u001b[0mrange\u001b[0m\u001b[0;34m(\u001b[0m\u001b[0mlen\u001b[0m\u001b[0;34m(\u001b[0m\u001b[0mtabs\u001b[0m\u001b[0;34m)\u001b[0m\u001b[0;34m)\u001b[0m\u001b[0;34m:\u001b[0m\u001b[0;34m\u001b[0m\u001b[0;34m\u001b[0m\u001b[0m\n\u001b[1;32m      2\u001b[0m     \u001b[0;32mfor\u001b[0m \u001b[0mj\u001b[0m \u001b[0;32min\u001b[0m \u001b[0mtabs\u001b[0m\u001b[0;34m:\u001b[0m\u001b[0;34m\u001b[0m\u001b[0;34m\u001b[0m\u001b[0m\n\u001b[0;32m----> 3\u001b[0;31m         \u001b[0mind_link\u001b[0m\u001b[0;34m.\u001b[0m\u001b[0mreplace\u001b[0m\u001b[0;34m(\u001b[0m\u001b[0;34m'page2'\u001b[0m\u001b[0;34m,\u001b[0m\u001b[0mj\u001b[0m\u001b[0;34m)\u001b[0m\u001b[0;34m\u001b[0m\u001b[0;34m\u001b[0m\u001b[0m\n\u001b[0m\u001b[1;32m      4\u001b[0m \u001b[0;34m\u001b[0m\u001b[0m\n",
      "\u001b[0;31mAttributeError\u001b[0m: 'list' object has no attribute 'replace'"
     ]
    }
   ],
   "source": [
    "for i in range(len(tabs)):\n",
    "    for j in tabs:\n",
    "        ind_link.replace('page2',j)\n",
    "    "
   ]
  },
  {
   "cell_type": "code",
   "execution_count": 10,
   "metadata": {},
   "outputs": [
    {
     "data": {
      "text/plain": [
       "['href=\"', 'cars', 'uk', 'page2?vehicle_seats=5\"']"
      ]
     },
     "execution_count": 10,
     "metadata": {},
     "output_type": "execute_result"
    }
   ],
   "source": [
    "ind_link"
   ]
  },
  {
   "cell_type": "code",
   "execution_count": null,
   "metadata": {},
   "outputs": [],
   "source": []
  }
 ],
 "metadata": {
  "kernelspec": {
   "display_name": "Python 3",
   "language": "python",
   "name": "python3"
  },
  "language_info": {
   "codemirror_mode": {
    "name": "ipython",
    "version": 3
   },
   "file_extension": ".py",
   "mimetype": "text/x-python",
   "name": "python",
   "nbconvert_exporter": "python",
   "pygments_lexer": "ipython3",
   "version": "3.7.6"
  }
 },
 "nbformat": 4,
 "nbformat_minor": 4
}
