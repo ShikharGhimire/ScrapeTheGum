{
 "cells": [
  {
   "cell_type": "code",
   "execution_count": 1,
   "metadata": {},
   "outputs": [],
   "source": [
    "from bs4 import BeautifulSoup as bs\n",
    "import requests\n",
    "import numpy as np\n",
    "import pandas as pd\n",
    "import matplotlib.pyplot as plt\n",
    "import seaborn as sns\n",
    "import json"
   ]
  },
  {
   "cell_type": "code",
   "execution_count": 2,
   "metadata": {},
   "outputs": [],
   "source": [
    "def car_info(link):\n",
    "    cars = requests.get(link,'html.parser')\n",
    "    soup = bs(cars.content)\n",
    "    coloumns = []\n",
    "    info = []\n",
    "    #Getting all the info from the information boxes\n",
    "    for i in soup.select('th',class_= 'css-1pusycv e155vlc0'):\n",
    "        coloumns.append(i.text)\n",
    "    for j in soup.select('td',class_ ='attributes-table-value'):\n",
    "        info.append(j.get_text('',strip=True))\n",
    "    dictionary = dict(zip(coloumns,info))\n",
    "    #Getting the price of the car\n",
    "    price = soup.find(class_ = 'ad-price txt-xlarge txt-emphasis inline-block')\n",
    "    dictionary['Price'] = price.get_text('',strip=True)\n",
    "    #Extracting the name of the car\n",
    "    title = soup.select('h1',class_ ='css-1uk1gs8 e1pt9h6u3')\n",
    "    title = str(title)\n",
    "    title = title.split('>')\n",
    "    dictionary['Name'] = title[1]\n",
    "    return dictionary"
   ]
  },
  {
   "cell_type": "code",
   "execution_count": 3,
   "metadata": {},
   "outputs": [
    {
     "data": {
      "text/plain": [
       "{'Year': '2009',\n",
       " 'Body type': 'Hatchback',\n",
       " 'Mileage': '99,698miles',\n",
       " 'Transmission': 'Manual',\n",
       " 'Brochure Engine size': '1.4L',\n",
       " 'Fuel type': 'Petrol',\n",
       " 'Urban mpg': '34.5mpg',\n",
       " 'Extra Urban mpg': '55.4mpg',\n",
       " 'Fuel Consumption': '45.6mpg',\n",
       " 'Insurance Group': '8E',\n",
       " 'CO2 emissions': '149g/km',\n",
       " 'Euro Emissions': 'Euro 4',\n",
       " 'Engine Power': '84.5bhp',\n",
       " 'Engine size': '1390cc',\n",
       " 'Acceleration (0-62mph)': '11.8seconds',\n",
       " 'Top Speed': '109mph',\n",
       " 'Seats': '5',\n",
       " 'Doors': '3',\n",
       " 'Colour': 'Grey',\n",
       " 'Fuel Capacity': '45litres',\n",
       " 'Luggage Capacity (seats up)': '292litres',\n",
       " 'Price': '£1,850.00',\n",
       " 'Name': 'Seat Ibiza 1.4 3 door</h1'}"
      ]
     },
     "execution_count": 3,
     "metadata": {},
     "output_type": "execute_result"
    }
   ],
   "source": [
    "car_info('https://www.gumtree.com/p/seat/seat-ibiza-1.4-3-door/1397072088')"
   ]
  },
  {
   "cell_type": "code",
   "execution_count": null,
   "metadata": {},
   "outputs": [],
   "source": []
  }
 ],
 "metadata": {
  "kernelspec": {
   "display_name": "Python 3",
   "language": "python",
   "name": "python3"
  },
  "language_info": {
   "codemirror_mode": {
    "name": "ipython",
    "version": 3
   },
   "file_extension": ".py",
   "mimetype": "text/x-python",
   "name": "python",
   "nbconvert_exporter": "python",
   "pygments_lexer": "ipython3",
   "version": "3.7.6"
  }
 },
 "nbformat": 4,
 "nbformat_minor": 4
}
