{
 "cells": [
  {
   "cell_type": "code",
   "execution_count": 1,
   "metadata": {},
   "outputs": [],
   "source": [
    "from bs4 import BeautifulSoup as bs\n",
    "import requests\n",
    "import numpy as np\n",
    "import pandas as pd\n",
    "import matplotlib.pyplot as plt\n",
    "import seaborn as sns\n",
    "import json"
   ]
  },
  {
   "cell_type": "code",
   "execution_count": 2,
   "metadata": {},
   "outputs": [],
   "source": [
    "def car_info(link):\n",
    "    cars = requests.get(link,'html.parser')\n",
    "    soup = bs(cars.content)\n",
    "    coloumns = []\n",
    "    info = []\n",
    "    #Getting all the info from the information boxes\n",
    "    for i in soup.select('th',class_= 'css-1pusycv e155vlc0'):\n",
    "        coloumns.append(i.text)\n",
    "    for j in soup.select('td',class_ ='attributes-table-value'):\n",
    "        info.append(j.get_text('',strip=True))\n",
    "    dictionary = dict(zip(coloumns,info)) #Converting it into dictionary\n",
    "    #Getting the price of the car\n",
    "    price = soup.find(class_ = 'ad-price txt-xlarge txt-emphasis inline-block')\n",
    "    dictionary['Price'] = price.get_text('',strip=True)\n",
    "    #Extracting the name of the car\n",
    "    title = soup.select('h1',class_ ='css-1uk1gs8 e1pt9h6u3')\n",
    "    title = str(title)\n",
    "    title = title.split('>')\n",
    "    dictionary['Name'] = title[1]\n",
    "    #Extracting the location\n",
    "    location = soup.find(class_ = 'ad-location truncate-line set-left')\n",
    "    dictionary['Location'] = location.get_text('',strip = True)\n",
    "    return dictionary"
   ]
  },
  {
   "cell_type": "code",
   "execution_count": 3,
   "metadata": {},
   "outputs": [
    {
     "data": {
      "text/plain": [
       "{'Year': '2003',\n",
       " 'Body type': 'Saloon',\n",
       " 'Mileage': '124,281miles',\n",
       " 'Transmission': 'Manual',\n",
       " 'Brochure Engine size': '1.8L',\n",
       " 'Fuel type': 'Petrol',\n",
       " 'Urban mpg': '23.3mpg',\n",
       " 'Extra Urban mpg': '44.1mpg',\n",
       " 'Fuel Consumption': '33.2mpg',\n",
       " 'Insurance Group': '26A',\n",
       " 'CO2 emissions': '202g/km',\n",
       " 'Euro Emissions': 'Euro 3',\n",
       " 'Engine Power': '138.1bhp',\n",
       " 'Engine size': '1747cc',\n",
       " 'Acceleration (0-62mph)': '9.4seconds',\n",
       " 'Top Speed': '129mph',\n",
       " 'Seats': '5',\n",
       " 'Doors': '4',\n",
       " 'Colour': 'Red',\n",
       " 'Fuel Capacity': '63litres',\n",
       " 'Luggage Capacity (seats up)': '378litres',\n",
       " 'Price': '£799.00',\n",
       " 'Name': 'Alfa Romeo, 156, Saloon, 2003, Manual, 1747 (cc), 4 doors</h1',\n",
       " 'Location': 'Kingsbury, London'}"
      ]
     },
     "execution_count": 3,
     "metadata": {},
     "output_type": "execute_result"
    }
   ],
   "source": [
    "car_info('https://www.gumtree.com/p/alfa-romeo/alfa-romeo-156-saloon-2003-manual-1747-cc-4-doors/1397076925')"
   ]
  },
  {
   "cell_type": "code",
   "execution_count": 4,
   "metadata": {},
   "outputs": [],
   "source": [
    "cars = requests.get('https://www.gumtree.com/cars/uk?vehicle_seats=5','html.parser')\n",
    "soup = bs(cars.content)"
   ]
  },
  {
   "cell_type": "code",
   "execution_count": 5,
   "metadata": {},
   "outputs": [],
   "source": [
    "links = [] #Let's gather all the links in this list\n",
    "baselink = 'www.gumtree.com'\n",
    "for i in soup.find_all('ul',{'class':'listing-maxi'}):\n",
    "    link = i.find('a',href=True)\n",
    "    if link is None:\n",
    "        continue\n",
    "    links.append(baselink+link['href'])"
   ]
  },
  {
   "cell_type": "code",
   "execution_count": 6,
   "metadata": {},
   "outputs": [
    {
     "data": {
      "text/plain": [
       "['www.gumtree.com/p/chevrolet/2011-chevrolet-captivia-ls-diesel-finance-warranty-ava-6-months-warranty-excellent-value-/1395072836',\n",
       " 'www.gumtree.com/p/bmw/2017-bmw-x1-sdrive-18d-se-5dr-estate-diesel-manual/1392775944']"
      ]
     },
     "execution_count": 6,
     "metadata": {},
     "output_type": "execute_result"
    }
   ],
   "source": [
    "links"
   ]
  },
  {
   "cell_type": "code",
   "execution_count": null,
   "metadata": {},
   "outputs": [],
   "source": []
  }
 ],
 "metadata": {
  "kernelspec": {
   "display_name": "Python 3",
   "language": "python",
   "name": "python3"
  },
  "language_info": {
   "codemirror_mode": {
    "name": "ipython",
    "version": 3
   },
   "file_extension": ".py",
   "mimetype": "text/x-python",
   "name": "python",
   "nbconvert_exporter": "python",
   "pygments_lexer": "ipython3",
   "version": "3.7.6"
  }
 },
 "nbformat": 4,
 "nbformat_minor": 4
}
